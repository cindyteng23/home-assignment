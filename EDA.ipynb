{
 "cells": [
  {
   "cell_type": "code",
   "execution_count": 1,
   "metadata": {},
   "outputs": [],
   "source": [
    "import warnings\n",
    "warnings.simplefilter('ignore')\n",
    "\n",
    "%matplotlib inline\n",
    "\n",
    "import pandas as pd\n",
    "import numpy as np\n",
    "import matplotlib.pyplot as plt\n",
    "import seaborn as sns\n",
    "from collections import Counter\n",
    "import ast\n",
    "import graphviz # visualize decision tree\n",
    "from sklearn import tree\n",
    "from sklearn.tree import DecisionTreeClassifier\n",
    "from sklearn.preprocessing import LabelEncoder\n",
    "from sklearn.model_selection import cross_val_score"
   ]
  },
  {
   "cell_type": "markdown",
   "metadata": {},
   "source": [
    "## Load dataset"
   ]
  },
  {
   "cell_type": "code",
   "execution_count": 2,
   "metadata": {},
   "outputs": [
    {
     "data": {
      "text/html": [
       "<div>\n",
       "<style scoped>\n",
       "    .dataframe tbody tr th:only-of-type {\n",
       "        vertical-align: middle;\n",
       "    }\n",
       "\n",
       "    .dataframe tbody tr th {\n",
       "        vertical-align: top;\n",
       "    }\n",
       "\n",
       "    .dataframe thead th {\n",
       "        text-align: right;\n",
       "    }\n",
       "</style>\n",
       "<table border=\"1\" class=\"dataframe\">\n",
       "  <thead>\n",
       "    <tr style=\"text-align: right;\">\n",
       "      <th></th>\n",
       "      <th>Date</th>\n",
       "      <th>workoutId</th>\n",
       "      <th>exerciseId</th>\n",
       "      <th>singleSetId</th>\n",
       "      <th>exerciseName</th>\n",
       "      <th>reps</th>\n",
       "      <th>weight</th>\n",
       "      <th>fake_user_id</th>\n",
       "    </tr>\n",
       "  </thead>\n",
       "  <tbody>\n",
       "    <tr>\n",
       "      <th>0</th>\n",
       "      <td>2019-04-17</td>\n",
       "      <td>kKn9tY3OtX</td>\n",
       "      <td>mvkMgAdecH</td>\n",
       "      <td>pJeNpRf97k</td>\n",
       "      <td>Dumbbell Shoulder Press</td>\n",
       "      <td>8</td>\n",
       "      <td>11.339823</td>\n",
       "      <td>fake_id_616</td>\n",
       "    </tr>\n",
       "    <tr>\n",
       "      <th>1</th>\n",
       "      <td>2019-10-26</td>\n",
       "      <td>CcTDXFzFCs</td>\n",
       "      <td>dXqYJgUYO6</td>\n",
       "      <td>rIaR4UvGw4</td>\n",
       "      <td>Deadlift</td>\n",
       "      <td>12</td>\n",
       "      <td>40.823362</td>\n",
       "      <td>fake_id_633</td>\n",
       "    </tr>\n",
       "    <tr>\n",
       "      <th>2</th>\n",
       "      <td>2019-06-17</td>\n",
       "      <td>hgFE0ZL5uW</td>\n",
       "      <td>mvkMgAdecH</td>\n",
       "      <td>IxuBmOQ0Ke</td>\n",
       "      <td>Dumbbell Shoulder Press</td>\n",
       "      <td>12</td>\n",
       "      <td>11.339823</td>\n",
       "      <td>fake_id_606</td>\n",
       "    </tr>\n",
       "    <tr>\n",
       "      <th>3</th>\n",
       "      <td>2019-09-02</td>\n",
       "      <td>xsACQH8eET</td>\n",
       "      <td>h85ZOw37Wc</td>\n",
       "      <td>eL2hci1qAJ</td>\n",
       "      <td>Dumbbell Bench Press</td>\n",
       "      <td>8</td>\n",
       "      <td>24.947610</td>\n",
       "      <td>fake_id_670</td>\n",
       "    </tr>\n",
       "    <tr>\n",
       "      <th>4</th>\n",
       "      <td>2019-06-13</td>\n",
       "      <td>yAES9CrsUk</td>\n",
       "      <td>dXqYJgUYO6</td>\n",
       "      <td>RotdJXeEEy</td>\n",
       "      <td>Deadlift</td>\n",
       "      <td>4</td>\n",
       "      <td>120.000000</td>\n",
       "      <td>fake_id_597</td>\n",
       "    </tr>\n",
       "  </tbody>\n",
       "</table>\n",
       "</div>"
      ],
      "text/plain": [
       "         Date   workoutId  exerciseId singleSetId             exerciseName  \\\n",
       "0  2019-04-17  kKn9tY3OtX  mvkMgAdecH  pJeNpRf97k  Dumbbell Shoulder Press   \n",
       "1  2019-10-26  CcTDXFzFCs  dXqYJgUYO6  rIaR4UvGw4                 Deadlift   \n",
       "2  2019-06-17  hgFE0ZL5uW  mvkMgAdecH  IxuBmOQ0Ke  Dumbbell Shoulder Press   \n",
       "3  2019-09-02  xsACQH8eET  h85ZOw37Wc  eL2hci1qAJ     Dumbbell Bench Press   \n",
       "4  2019-06-13  yAES9CrsUk  dXqYJgUYO6  RotdJXeEEy                 Deadlift   \n",
       "\n",
       "   reps      weight fake_user_id  \n",
       "0     8   11.339823  fake_id_616  \n",
       "1    12   40.823362  fake_id_633  \n",
       "2    12   11.339823  fake_id_606  \n",
       "3     8   24.947610  fake_id_670  \n",
       "4     4  120.000000  fake_id_597  "
      ]
     },
     "execution_count": 2,
     "metadata": {},
     "output_type": "execute_result"
    }
   ],
   "source": [
    "ori_df = pd.read_csv('fitbod_TengYue_20200807-185243.csv', header=0, encoding='utf-8')\n",
    "ori_df.head()"
   ]
  },
  {
   "cell_type": "code",
   "execution_count": 3,
   "metadata": {},
   "outputs": [
    {
     "name": "stdout",
     "output_type": "stream",
     "text": [
      "<class 'pandas.core.frame.DataFrame'>\n",
      "RangeIndex: 32186 entries, 0 to 32185\n",
      "Data columns (total 8 columns):\n",
      " #   Column        Non-Null Count  Dtype  \n",
      "---  ------        --------------  -----  \n",
      " 0   Date          32186 non-null  object \n",
      " 1   workoutId     32186 non-null  object \n",
      " 2   exerciseId    32186 non-null  object \n",
      " 3   singleSetId   32186 non-null  object \n",
      " 4   exerciseName  32186 non-null  object \n",
      " 5   reps          32186 non-null  int64  \n",
      " 6   weight        32186 non-null  float64\n",
      " 7   fake_user_id  32186 non-null  object \n",
      "dtypes: float64(1), int64(1), object(6)\n",
      "memory usage: 2.0+ MB\n"
     ]
    }
   ],
   "source": [
    "ori_df.info()\n",
    "# there is no missing or null values in this dataset"
   ]
  },
  {
   "cell_type": "code",
   "execution_count": 4,
   "metadata": {},
   "outputs": [
    {
     "data": {
      "text/html": [
       "<div>\n",
       "<style scoped>\n",
       "    .dataframe tbody tr th:only-of-type {\n",
       "        vertical-align: middle;\n",
       "    }\n",
       "\n",
       "    .dataframe tbody tr th {\n",
       "        vertical-align: top;\n",
       "    }\n",
       "\n",
       "    .dataframe thead th {\n",
       "        text-align: right;\n",
       "    }\n",
       "</style>\n",
       "<table border=\"1\" class=\"dataframe\">\n",
       "  <thead>\n",
       "    <tr style=\"text-align: right;\">\n",
       "      <th></th>\n",
       "      <th>Date</th>\n",
       "      <th>workoutId</th>\n",
       "      <th>exerciseId</th>\n",
       "      <th>singleSetId</th>\n",
       "      <th>exerciseName</th>\n",
       "      <th>reps</th>\n",
       "      <th>weight</th>\n",
       "      <th>fake_user_id</th>\n",
       "    </tr>\n",
       "  </thead>\n",
       "  <tbody>\n",
       "    <tr>\n",
       "      <th>count</th>\n",
       "      <td>32186</td>\n",
       "      <td>32186</td>\n",
       "      <td>32186</td>\n",
       "      <td>32186</td>\n",
       "      <td>32186</td>\n",
       "      <td>32186.000000</td>\n",
       "      <td>32186.000000</td>\n",
       "      <td>32186</td>\n",
       "    </tr>\n",
       "    <tr>\n",
       "      <th>unique</th>\n",
       "      <td>980</td>\n",
       "      <td>6893</td>\n",
       "      <td>9</td>\n",
       "      <td>32090</td>\n",
       "      <td>9</td>\n",
       "      <td>NaN</td>\n",
       "      <td>NaN</td>\n",
       "      <td>111</td>\n",
       "    </tr>\n",
       "    <tr>\n",
       "      <th>top</th>\n",
       "      <td>2019-09-23</td>\n",
       "      <td>qq6S6sNjOa</td>\n",
       "      <td>mnwUcsbS9T</td>\n",
       "      <td>rFxShbpcBa</td>\n",
       "      <td>Barbell Bench Press</td>\n",
       "      <td>NaN</td>\n",
       "      <td>NaN</td>\n",
       "      <td>fake_id_671</td>\n",
       "    </tr>\n",
       "    <tr>\n",
       "      <th>freq</th>\n",
       "      <td>120</td>\n",
       "      <td>20</td>\n",
       "      <td>5023</td>\n",
       "      <td>2</td>\n",
       "      <td>5023</td>\n",
       "      <td>NaN</td>\n",
       "      <td>NaN</td>\n",
       "      <td>1680</td>\n",
       "    </tr>\n",
       "    <tr>\n",
       "      <th>mean</th>\n",
       "      <td>NaN</td>\n",
       "      <td>NaN</td>\n",
       "      <td>NaN</td>\n",
       "      <td>NaN</td>\n",
       "      <td>NaN</td>\n",
       "      <td>8.487759</td>\n",
       "      <td>40.574184</td>\n",
       "      <td>NaN</td>\n",
       "    </tr>\n",
       "    <tr>\n",
       "      <th>std</th>\n",
       "      <td>NaN</td>\n",
       "      <td>NaN</td>\n",
       "      <td>NaN</td>\n",
       "      <td>NaN</td>\n",
       "      <td>NaN</td>\n",
       "      <td>3.794617</td>\n",
       "      <td>32.851475</td>\n",
       "      <td>NaN</td>\n",
       "    </tr>\n",
       "    <tr>\n",
       "      <th>min</th>\n",
       "      <td>NaN</td>\n",
       "      <td>NaN</td>\n",
       "      <td>NaN</td>\n",
       "      <td>NaN</td>\n",
       "      <td>NaN</td>\n",
       "      <td>1.000000</td>\n",
       "      <td>0.045359</td>\n",
       "      <td>NaN</td>\n",
       "    </tr>\n",
       "    <tr>\n",
       "      <th>25%</th>\n",
       "      <td>NaN</td>\n",
       "      <td>NaN</td>\n",
       "      <td>NaN</td>\n",
       "      <td>NaN</td>\n",
       "      <td>NaN</td>\n",
       "      <td>5.000000</td>\n",
       "      <td>15.875752</td>\n",
       "      <td>NaN</td>\n",
       "    </tr>\n",
       "    <tr>\n",
       "      <th>50%</th>\n",
       "      <td>NaN</td>\n",
       "      <td>NaN</td>\n",
       "      <td>NaN</td>\n",
       "      <td>NaN</td>\n",
       "      <td>NaN</td>\n",
       "      <td>8.000000</td>\n",
       "      <td>26.000000</td>\n",
       "      <td>NaN</td>\n",
       "    </tr>\n",
       "    <tr>\n",
       "      <th>75%</th>\n",
       "      <td>NaN</td>\n",
       "      <td>NaN</td>\n",
       "      <td>NaN</td>\n",
       "      <td>NaN</td>\n",
       "      <td>NaN</td>\n",
       "      <td>10.000000</td>\n",
       "      <td>61.235043</td>\n",
       "      <td>NaN</td>\n",
       "    </tr>\n",
       "    <tr>\n",
       "      <th>max</th>\n",
       "      <td>NaN</td>\n",
       "      <td>NaN</td>\n",
       "      <td>NaN</td>\n",
       "      <td>NaN</td>\n",
       "      <td>NaN</td>\n",
       "      <td>50.000000</td>\n",
       "      <td>868.000000</td>\n",
       "      <td>NaN</td>\n",
       "    </tr>\n",
       "  </tbody>\n",
       "</table>\n",
       "</div>"
      ],
      "text/plain": [
       "              Date   workoutId  exerciseId singleSetId         exerciseName  \\\n",
       "count        32186       32186       32186       32186                32186   \n",
       "unique         980        6893           9       32090                    9   \n",
       "top     2019-09-23  qq6S6sNjOa  mnwUcsbS9T  rFxShbpcBa  Barbell Bench Press   \n",
       "freq           120          20        5023           2                 5023   \n",
       "mean           NaN         NaN         NaN         NaN                  NaN   \n",
       "std            NaN         NaN         NaN         NaN                  NaN   \n",
       "min            NaN         NaN         NaN         NaN                  NaN   \n",
       "25%            NaN         NaN         NaN         NaN                  NaN   \n",
       "50%            NaN         NaN         NaN         NaN                  NaN   \n",
       "75%            NaN         NaN         NaN         NaN                  NaN   \n",
       "max            NaN         NaN         NaN         NaN                  NaN   \n",
       "\n",
       "                reps        weight fake_user_id  \n",
       "count   32186.000000  32186.000000        32186  \n",
       "unique           NaN           NaN          111  \n",
       "top              NaN           NaN  fake_id_671  \n",
       "freq             NaN           NaN         1680  \n",
       "mean        8.487759     40.574184          NaN  \n",
       "std         3.794617     32.851475          NaN  \n",
       "min         1.000000      0.045359          NaN  \n",
       "25%         5.000000     15.875752          NaN  \n",
       "50%         8.000000     26.000000          NaN  \n",
       "75%        10.000000     61.235043          NaN  \n",
       "max        50.000000    868.000000          NaN  "
      ]
     },
     "execution_count": 4,
     "metadata": {},
     "output_type": "execute_result"
    }
   ],
   "source": [
    "ori_df.describe(include='all')"
   ]
  },
  {
   "cell_type": "code",
   "execution_count": 5,
   "metadata": {},
   "outputs": [
    {
     "data": {
      "text/plain": [
       "qq6S6sNjOa    20\n",
       "W6hvwfL2QM    19\n",
       "NZWuQfoNLk    19\n",
       "n6D5lm8nHD    19\n",
       "rWWZfJPOUD    18\n",
       "              ..\n",
       "MN9oZ720dH     1\n",
       "X4xViVTMhJ     1\n",
       "zNBCrOLnu9     1\n",
       "uykFpT9tJH     1\n",
       "hyRWmlwoYi     1\n",
       "Name: workoutId, Length: 6893, dtype: int64"
      ]
     },
     "execution_count": 5,
     "metadata": {},
     "output_type": "execute_result"
    }
   ],
   "source": [
    "# try to understand the definition of workoutId\n",
    "ori_df['workoutId'].value_counts()"
   ]
  },
  {
   "cell_type": "code",
   "execution_count": 6,
   "metadata": {},
   "outputs": [
    {
     "data": {
      "text/html": [
       "<div>\n",
       "<style scoped>\n",
       "    .dataframe tbody tr th:only-of-type {\n",
       "        vertical-align: middle;\n",
       "    }\n",
       "\n",
       "    .dataframe tbody tr th {\n",
       "        vertical-align: top;\n",
       "    }\n",
       "\n",
       "    .dataframe thead th {\n",
       "        text-align: right;\n",
       "    }\n",
       "</style>\n",
       "<table border=\"1\" class=\"dataframe\">\n",
       "  <thead>\n",
       "    <tr style=\"text-align: right;\">\n",
       "      <th></th>\n",
       "      <th>Date</th>\n",
       "      <th>workoutId</th>\n",
       "      <th>exerciseId</th>\n",
       "      <th>singleSetId</th>\n",
       "      <th>exerciseName</th>\n",
       "      <th>reps</th>\n",
       "      <th>weight</th>\n",
       "      <th>fake_user_id</th>\n",
       "    </tr>\n",
       "  </thead>\n",
       "  <tbody>\n",
       "    <tr>\n",
       "      <th>count</th>\n",
       "      <td>18</td>\n",
       "      <td>18</td>\n",
       "      <td>18</td>\n",
       "      <td>18</td>\n",
       "      <td>18</td>\n",
       "      <td>18.000000</td>\n",
       "      <td>18.000000</td>\n",
       "      <td>18</td>\n",
       "    </tr>\n",
       "    <tr>\n",
       "      <th>unique</th>\n",
       "      <td>1</td>\n",
       "      <td>1</td>\n",
       "      <td>3</td>\n",
       "      <td>18</td>\n",
       "      <td>3</td>\n",
       "      <td>NaN</td>\n",
       "      <td>NaN</td>\n",
       "      <td>1</td>\n",
       "    </tr>\n",
       "    <tr>\n",
       "      <th>top</th>\n",
       "      <td>2019-09-05</td>\n",
       "      <td>Cb6uwdMysk</td>\n",
       "      <td>G1mxtZtEs5</td>\n",
       "      <td>s7fksNN2bM</td>\n",
       "      <td>Back Squat</td>\n",
       "      <td>NaN</td>\n",
       "      <td>NaN</td>\n",
       "      <td>fake_id_616</td>\n",
       "    </tr>\n",
       "    <tr>\n",
       "      <th>freq</th>\n",
       "      <td>18</td>\n",
       "      <td>18</td>\n",
       "      <td>9</td>\n",
       "      <td>1</td>\n",
       "      <td>9</td>\n",
       "      <td>NaN</td>\n",
       "      <td>NaN</td>\n",
       "      <td>18</td>\n",
       "    </tr>\n",
       "    <tr>\n",
       "      <th>mean</th>\n",
       "      <td>NaN</td>\n",
       "      <td>NaN</td>\n",
       "      <td>NaN</td>\n",
       "      <td>NaN</td>\n",
       "      <td>NaN</td>\n",
       "      <td>7.777778</td>\n",
       "      <td>55.691129</td>\n",
       "      <td>NaN</td>\n",
       "    </tr>\n",
       "    <tr>\n",
       "      <th>std</th>\n",
       "      <td>NaN</td>\n",
       "      <td>NaN</td>\n",
       "      <td>NaN</td>\n",
       "      <td>NaN</td>\n",
       "      <td>NaN</td>\n",
       "      <td>2.941699</td>\n",
       "      <td>34.388543</td>\n",
       "      <td>NaN</td>\n",
       "    </tr>\n",
       "    <tr>\n",
       "      <th>min</th>\n",
       "      <td>NaN</td>\n",
       "      <td>NaN</td>\n",
       "      <td>NaN</td>\n",
       "      <td>NaN</td>\n",
       "      <td>NaN</td>\n",
       "      <td>3.000000</td>\n",
       "      <td>11.339823</td>\n",
       "      <td>NaN</td>\n",
       "    </tr>\n",
       "    <tr>\n",
       "      <th>25%</th>\n",
       "      <td>NaN</td>\n",
       "      <td>NaN</td>\n",
       "      <td>NaN</td>\n",
       "      <td>NaN</td>\n",
       "      <td>NaN</td>\n",
       "      <td>5.500000</td>\n",
       "      <td>13.607787</td>\n",
       "      <td>NaN</td>\n",
       "    </tr>\n",
       "    <tr>\n",
       "      <th>50%</th>\n",
       "      <td>NaN</td>\n",
       "      <td>NaN</td>\n",
       "      <td>NaN</td>\n",
       "      <td>NaN</td>\n",
       "      <td>NaN</td>\n",
       "      <td>8.000000</td>\n",
       "      <td>61.235043</td>\n",
       "      <td>NaN</td>\n",
       "    </tr>\n",
       "    <tr>\n",
       "      <th>75%</th>\n",
       "      <td>NaN</td>\n",
       "      <td>NaN</td>\n",
       "      <td>NaN</td>\n",
       "      <td>NaN</td>\n",
       "      <td>NaN</td>\n",
       "      <td>10.750000</td>\n",
       "      <td>83.914688</td>\n",
       "      <td>NaN</td>\n",
       "    </tr>\n",
       "    <tr>\n",
       "      <th>max</th>\n",
       "      <td>NaN</td>\n",
       "      <td>NaN</td>\n",
       "      <td>NaN</td>\n",
       "      <td>NaN</td>\n",
       "      <td>NaN</td>\n",
       "      <td>11.000000</td>\n",
       "      <td>102.058405</td>\n",
       "      <td>NaN</td>\n",
       "    </tr>\n",
       "  </tbody>\n",
       "</table>\n",
       "</div>"
      ],
      "text/plain": [
       "              Date   workoutId  exerciseId singleSetId exerciseName  \\\n",
       "count           18          18          18          18           18   \n",
       "unique           1           1           3          18            3   \n",
       "top     2019-09-05  Cb6uwdMysk  G1mxtZtEs5  s7fksNN2bM   Back Squat   \n",
       "freq            18          18           9           1            9   \n",
       "mean           NaN         NaN         NaN         NaN          NaN   \n",
       "std            NaN         NaN         NaN         NaN          NaN   \n",
       "min            NaN         NaN         NaN         NaN          NaN   \n",
       "25%            NaN         NaN         NaN         NaN          NaN   \n",
       "50%            NaN         NaN         NaN         NaN          NaN   \n",
       "75%            NaN         NaN         NaN         NaN          NaN   \n",
       "max            NaN         NaN         NaN         NaN          NaN   \n",
       "\n",
       "             reps      weight fake_user_id  \n",
       "count   18.000000   18.000000           18  \n",
       "unique        NaN         NaN            1  \n",
       "top           NaN         NaN  fake_id_616  \n",
       "freq          NaN         NaN           18  \n",
       "mean     7.777778   55.691129          NaN  \n",
       "std      2.941699   34.388543          NaN  \n",
       "min      3.000000   11.339823          NaN  \n",
       "25%      5.500000   13.607787          NaN  \n",
       "50%      8.000000   61.235043          NaN  \n",
       "75%     10.750000   83.914688          NaN  \n",
       "max     11.000000  102.058405          NaN  "
      ]
     },
     "execution_count": 6,
     "metadata": {},
     "output_type": "execute_result"
    }
   ],
   "source": [
    "ori_df[ori_df['workoutId'] == 'Cb6uwdMysk'].describe(include='all')"
   ]
  },
  {
   "cell_type": "code",
   "execution_count": 7,
   "metadata": {},
   "outputs": [
    {
     "data": {
      "text/plain": [
       "rFxShbpcBa    2\n",
       "yHkSg9QTeY    2\n",
       "Z6k02C0L1b    2\n",
       "yPRYxA6Fo0    2\n",
       "F6khwDLzPp    2\n",
       "             ..\n",
       "o7MUHpcpS1    1\n",
       "posSFtAa0A    1\n",
       "6skqGMVeYh    1\n",
       "uwaAVm6OVE    1\n",
       "wjpxiPEF69    1\n",
       "Name: singleSetId, Length: 32090, dtype: int64"
      ]
     },
     "execution_count": 7,
     "metadata": {},
     "output_type": "execute_result"
    }
   ],
   "source": [
    "# try to understand the definition of singleSetId\n",
    "ori_df['singleSetId'].value_counts()"
   ]
  },
  {
   "cell_type": "code",
   "execution_count": 8,
   "metadata": {},
   "outputs": [
    {
     "data": {
      "text/html": [
       "<div>\n",
       "<style scoped>\n",
       "    .dataframe tbody tr th:only-of-type {\n",
       "        vertical-align: middle;\n",
       "    }\n",
       "\n",
       "    .dataframe tbody tr th {\n",
       "        vertical-align: top;\n",
       "    }\n",
       "\n",
       "    .dataframe thead th {\n",
       "        text-align: right;\n",
       "    }\n",
       "</style>\n",
       "<table border=\"1\" class=\"dataframe\">\n",
       "  <thead>\n",
       "    <tr style=\"text-align: right;\">\n",
       "      <th></th>\n",
       "      <th>Date</th>\n",
       "      <th>workoutId</th>\n",
       "      <th>exerciseId</th>\n",
       "      <th>singleSetId</th>\n",
       "      <th>exerciseName</th>\n",
       "      <th>reps</th>\n",
       "      <th>weight</th>\n",
       "      <th>fake_user_id</th>\n",
       "    </tr>\n",
       "  </thead>\n",
       "  <tbody>\n",
       "    <tr>\n",
       "      <th>8119</th>\n",
       "      <td>2019-01-29</td>\n",
       "      <td>igQdrBYan2</td>\n",
       "      <td>dXqYJgUYO6</td>\n",
       "      <td>e2i1lXUI2G</td>\n",
       "      <td>Deadlift</td>\n",
       "      <td>6</td>\n",
       "      <td>85.275467</td>\n",
       "      <td>fake_id_690</td>\n",
       "    </tr>\n",
       "    <tr>\n",
       "      <th>10168</th>\n",
       "      <td>2019-01-29</td>\n",
       "      <td>4CWQv5zDUN</td>\n",
       "      <td>dXqYJgUYO6</td>\n",
       "      <td>e2i1lXUI2G</td>\n",
       "      <td>Deadlift</td>\n",
       "      <td>6</td>\n",
       "      <td>85.275467</td>\n",
       "      <td>fake_id_690</td>\n",
       "    </tr>\n",
       "  </tbody>\n",
       "</table>\n",
       "</div>"
      ],
      "text/plain": [
       "             Date   workoutId  exerciseId singleSetId exerciseName  reps  \\\n",
       "8119   2019-01-29  igQdrBYan2  dXqYJgUYO6  e2i1lXUI2G     Deadlift     6   \n",
       "10168  2019-01-29  4CWQv5zDUN  dXqYJgUYO6  e2i1lXUI2G     Deadlift     6   \n",
       "\n",
       "          weight fake_user_id  \n",
       "8119   85.275467  fake_id_690  \n",
       "10168  85.275467  fake_id_690  "
      ]
     },
     "execution_count": 8,
     "metadata": {},
     "output_type": "execute_result"
    }
   ],
   "source": [
    "ori_df[ori_df['singleSetId'] == 'e2i1lXUI2G']"
   ]
  },
  {
   "cell_type": "markdown",
   "metadata": {},
   "source": [
    "**Analysis:** \n",
    "1. Based on the dataset statistics, there is ``no missing value`` in this dataset; all columns are not a primary(unique) key for this table.\n",
    "2. After examing the ``singleSetId`` column, I notice that, for most records it is an unique key; \n",
    "    for 96 records, they are the same as another corresponding record who has the same singleSetId and other columns, but a different workoutID. These might be wrong data which needs validation or to be deleted.\n",
    "3. After exploring the different columns, I find the initial definition for these columns:\n",
    "\n",
    "| Column name | Explanation|\n",
    "| :- | :- |\n",
    "| workoutId | a work out is when a user does a set of exercises in a row in a day |\n",
    "| singleSetId | a single set is a set of movements with a certain number of repeats and weight |\n",
    "| reps | repeat times of an exercise in one single set |\n",
    "| weight | the weight of a lift / push up |"
   ]
  },
  {
   "cell_type": "markdown",
   "metadata": {},
   "source": [
    "## Exploratory Data Analysis"
   ]
  },
  {
   "cell_type": "markdown",
   "metadata": {},
   "source": [
    "In this section, I will analyze the dataset from the following aspects:\n",
    "* What were the Workout Dates / Days\n",
    "* What Exercises were they dong?\n",
    "* User-level Analysis\n",
    "    * Daily Workout Times vs. Total Workout Times \n",
    "    * WAU and MAU"
   ]
  },
  {
   "cell_type": "markdown",
   "metadata": {},
   "source": [
    "Note: the following analysis assumes that the dataset is representative."
   ]
  },
  {
   "cell_type": "markdown",
   "metadata": {},
   "source": [
    "### Workout Day Analysis"
   ]
  },
  {
   "cell_type": "code",
   "execution_count": 9,
   "metadata": {},
   "outputs": [
    {
     "data": {
      "image/png": "[encoded data removed]",
      "text/plain": [
       "<Figure size 720x432 with 1 Axes>"
      ]
     },
     "metadata": {
      "needs_background": "light"
     },
     "output_type": "display_data"
    }
   ],
   "source": [
    "fig, ax = plt.subplots(figsize=(10, 6))\n",
    "hist_kws={'histtype': 'bar', 'edgecolor':'black', 'alpha': 0.2}\n",
    "pd.to_datetime(ori_df['Date']).hist(ax=ax,grid=False, **hist_kws)\n",
    "ax.set_title(\"Histogram of Date Distribution\",fontsize=16)\n",
    "ax.set_xlabel(\"Date\", fontsize = 12)\n",
    "ax.set_ylabel(\"Density\", fontsize = 12)\n",
    "plt.show()"
   ]
  },
  {
   "cell_type": "code",
   "execution_count": 10,
   "metadata": {},
   "outputs": [
    {
     "data": {
      "text/plain": [
       "Date\n",
       "Monday       4895\n",
       "Tuesday      5290\n",
       "Wednesday    5350\n",
       "Thursday     4814\n",
       "Friday       4426\n",
       "Saturday     4195\n",
       "Sunday       3216\n",
       "Name: singleSetId, dtype: int64"
      ]
     },
     "execution_count": 10,
     "metadata": {},
     "output_type": "execute_result"
    }
   ],
   "source": [
    "# show exercise weekday\n",
    "ori_df['Date'] = pd.to_datetime(ori_df['Date'])\n",
    "ts_df = ori_df.set_index('Date')\n",
    "day_names = ts_df.index.day_name()\n",
    "\n",
    "weekday = ts_df.groupby(day_names)['singleSetId'].count()[['Monday','Tuesday','Wednesday','Thursday','Friday','Saturday','Sunday']]\n",
    "weekday"
   ]
  },
  {
   "cell_type": "markdown",
   "metadata": {},
   "source": [
    "**Analysis:** \n",
    "* More data points are located between 2019 and 2020, indicating that more people are using the APP to exercise.\n",
    "* More people work out on weekdays instead of weekends."
   ]
  },
  {
   "cell_type": "markdown",
   "metadata": {},
   "source": [
    "### Exercise Analysis"
   ]
  },
  {
   "cell_type": "code",
   "execution_count": 11,
   "metadata": {},
   "outputs": [
    {
     "data": {
      "image/png": "[encoded data removed]",
      "text/plain": [
       "<Figure size 1440x432 with 1 Axes>"
      ]
     },
     "metadata": {
      "needs_background": "light"
     },
     "output_type": "display_data"
    }
   ],
   "source": [
    "fig, ax = plt.subplots(figsize=(20, 6))\n",
    "sns.countplot(ori_df['exerciseName'], \n",
    "                      order = ori_df['exerciseName'].value_counts().index, palette=\"deep\",ax=ax)\n",
    "ax.set_title(\"Count Plot of Exercise\",fontsize=16)\n",
    "ax.set_xlabel(\"Exercise Name\", fontsize = 12)\n",
    "ax.set_ylabel(\"Count of Exercise\", fontsize = 12)\n",
    "\n",
    "#data label\n",
    "labels=ori_df['exerciseName'].value_counts().index\n",
    "values=ori_df['exerciseName'].value_counts().values\n",
    "\n",
    "for i, p in enumerate(ax.patches):\n",
    "    height = p.get_height()\n",
    "    ax.text(p.get_x()+p.get_width()/2., height + 10, values[i],ha=\"center\")\n",
    "\n",
    "\n",
    "plt.show()"
   ]
  },
  {
   "cell_type": "markdown",
   "metadata": {},
   "source": [
    "**Analysis:**\n",
    "* The most popular three exercises are Barbell Bench Press, Dumbbell Bench Press and Dumbbell Row. \n",
    "* And the least popular three are Dumbbell Lunge, Dumbbell Bent Over Row and Close-Grip Bench Press."
   ]
  },
  {
   "cell_type": "markdown",
   "metadata": {},
   "source": [
    "### a. Repeats"
   ]
  },
  {
   "cell_type": "code",
   "execution_count": 12,
   "metadata": {},
   "outputs": [
    {
     "data": {
      "image/png": "[encoded data removed]",
      "text/plain": [
       "<Figure size 1080x720 with 9 Axes>"
      ]
     },
     "metadata": {
      "needs_background": "light"
     },
     "output_type": "display_data"
    }
   ],
   "source": [
    "fig, ax = plt.subplots(figsize=(15, 10))\n",
    "hist_kws={'histtype': 'bar', 'edgecolor':'black', 'alpha': 0.2}\n",
    "ax.set_title(\"Reps Distribution\",fontsize=16)\n",
    "ax.set_xlabel(\"Reps\", fontsize = 12)\n",
    "ax.set_ylabel(\"Density\", fontsize = 12)\n",
    "ori_df['reps'].hist(ax=ax,by = ori_df['exerciseName'],bins = 20, **hist_kws)\n",
    "plt.suptitle('Histogram of Repeats group by Exercise', fontsize=16)\n",
    "\n",
    "plt.show()"
   ]
  },
  {
   "cell_type": "code",
   "execution_count": 13,
   "metadata": {},
   "outputs": [
    {
     "data": {
      "image/png": "[encoded data removed]",
      "text/plain": [
       "<Figure size 1440x432 with 1 Axes>"
      ]
     },
     "metadata": {
      "needs_background": "light"
     },
     "output_type": "display_data"
    }
   ],
   "source": [
    "fig, ax = plt.subplots(figsize=(20, 6))\n",
    "sns.barplot(x='exerciseName', y='reps', data=ori_df, ax=ax)\n",
    "ax.set_title('Barplot of Reps per Exercise', fontsize=16)\n",
    "ax.set_xlabel(\"Exercise Name\", fontsize = 12)\n",
    "ax.set_ylabel(\"Reps\", fontsize = 12)\n",
    "plt.show()"
   ]
  },
  {
   "cell_type": "markdown",
   "metadata": {},
   "source": [
    "**Analysis:**\n",
    "* In the first plot, for most exercises, the distribution of Repeat times is centered around 5-10, with a very few records of repeat times over 20. \n",
    "* The second plot shows the average repeats for all users. Initial recommendations of repeat times for each exercise can be set accordingly."
   ]
  },
  {
   "cell_type": "markdown",
   "metadata": {},
   "source": [
    "### b. Weight"
   ]
  },
  {
   "cell_type": "code",
   "execution_count": 14,
   "metadata": {},
   "outputs": [
    {
     "data": {
      "image/png": "[encoded data removed]",
      "text/plain": [
       "<Figure size 1440x432 with 1 Axes>"
      ]
     },
     "metadata": {
      "needs_background": "light"
     },
     "output_type": "display_data"
    }
   ],
   "source": [
    "fig, ax = plt.subplots(figsize=(20, 6))\n",
    "sns.barplot(x='exerciseName', y='weight', data=ori_df, ax=ax)\n",
    "ax.set_title('Barplot of Weight per exercise', fontsize=16)\n",
    "ax.set_xlabel(\"Exercise Name\", fontsize = 12)\n",
    "ax.set_ylabel(\"Weight\", fontsize = 12)\n",
    "plt.show()"
   ]
  },
  {
   "cell_type": "markdown",
   "metadata": {},
   "source": [
    "**Analysis:**\n",
    "* This plot shows the average weight for each exercise. Initial recommendations of weight for each exercise can be set accordingly.\n",
    "* We can learn the user habits better through customer segmentation. "
   ]
  },
  {
   "cell_type": "markdown",
   "metadata": {},
   "source": [
    "### Heatmap"
   ]
  },
  {
   "cell_type": "markdown",
   "metadata": {},
   "source": [
    "The correlation of Repeats and Weight is not high (-0.38)"
   ]
  },
  {
   "cell_type": "code",
   "execution_count": 15,
   "metadata": {},
   "outputs": [
    {
     "data": {
      "image/png": "[encoded data removed]",
      "text/plain": [
       "<Figure size 432x360 with 2 Axes>"
      ]
     },
     "metadata": {
      "needs_background": "light"
     },
     "output_type": "display_data"
    }
   ],
   "source": [
    "corr = ori_df[['reps','weight']].corr()\n",
    "\n",
    "fig, ax = plt.subplots(figsize=(6, 5))\n",
    "sns.heatmap(corr, ax=ax,annot=True)\n",
    "plt.show()"
   ]
  },
  {
   "cell_type": "markdown",
   "metadata": {},
   "source": [
    "After analyzing the date and Exercise, to further understand our user and to give recommendations, we need to segment our users."
   ]
  },
  {
   "cell_type": "markdown",
   "metadata": {},
   "source": [
    "### User-level Analysis"
   ]
  },
  {
   "cell_type": "markdown",
   "metadata": {},
   "source": [
    "To simplify the analysis, I assume that the first date appeared in the dataset is the first logging date for a user."
   ]
  },
  {
   "cell_type": "code",
   "execution_count": 16,
   "metadata": {},
   "outputs": [
    {
     "data": {
      "text/html": [
       "<div>\n",
       "<style scoped>\n",
       "    .dataframe tbody tr th:only-of-type {\n",
       "        vertical-align: middle;\n",
       "    }\n",
       "\n",
       "    .dataframe tbody tr th {\n",
       "        vertical-align: top;\n",
       "    }\n",
       "\n",
       "    .dataframe thead th {\n",
       "        text-align: right;\n",
       "    }\n",
       "</style>\n",
       "<table border=\"1\" class=\"dataframe\">\n",
       "  <thead>\n",
       "    <tr style=\"text-align: right;\">\n",
       "      <th></th>\n",
       "      <th>fake_user_id</th>\n",
       "      <th>first_date</th>\n",
       "      <th>latest_date</th>\n",
       "      <th>second_latest_date</th>\n",
       "      <th>days_interval</th>\n",
       "      <th>active_days</th>\n",
       "      <th>weight</th>\n",
       "      <th>reps</th>\n",
       "    </tr>\n",
       "  </thead>\n",
       "  <tbody>\n",
       "    <tr>\n",
       "      <th>0</th>\n",
       "      <td>fake_id_592</td>\n",
       "      <td>2018-01-24</td>\n",
       "      <td>2020-07-10</td>\n",
       "      <td>2020-07-01</td>\n",
       "      <td>9 days</td>\n",
       "      <td>130</td>\n",
       "      <td>47.0</td>\n",
       "      <td>8.0</td>\n",
       "    </tr>\n",
       "    <tr>\n",
       "      <th>1</th>\n",
       "      <td>fake_id_593</td>\n",
       "      <td>2019-10-11</td>\n",
       "      <td>2020-08-05</td>\n",
       "      <td>2020-08-01</td>\n",
       "      <td>4 days</td>\n",
       "      <td>95</td>\n",
       "      <td>62.0</td>\n",
       "      <td>7.0</td>\n",
       "    </tr>\n",
       "    <tr>\n",
       "      <th>2</th>\n",
       "      <td>fake_id_594</td>\n",
       "      <td>2019-12-03</td>\n",
       "      <td>2020-08-05</td>\n",
       "      <td>2020-07-12</td>\n",
       "      <td>24 days</td>\n",
       "      <td>47</td>\n",
       "      <td>17.0</td>\n",
       "      <td>11.0</td>\n",
       "    </tr>\n",
       "    <tr>\n",
       "      <th>3</th>\n",
       "      <td>fake_id_595</td>\n",
       "      <td>2019-01-11</td>\n",
       "      <td>2020-08-04</td>\n",
       "      <td>2020-08-03</td>\n",
       "      <td>1 days</td>\n",
       "      <td>177</td>\n",
       "      <td>58.0</td>\n",
       "      <td>8.0</td>\n",
       "    </tr>\n",
       "    <tr>\n",
       "      <th>4</th>\n",
       "      <td>fake_id_596</td>\n",
       "      <td>2019-12-12</td>\n",
       "      <td>2020-02-15</td>\n",
       "      <td>2020-02-12</td>\n",
       "      <td>3 days</td>\n",
       "      <td>12</td>\n",
       "      <td>19.0</td>\n",
       "      <td>6.0</td>\n",
       "    </tr>\n",
       "  </tbody>\n",
       "</table>\n",
       "</div>"
      ],
      "text/plain": [
       "  fake_user_id first_date latest_date second_latest_date days_interval  \\\n",
       "0  fake_id_592 2018-01-24  2020-07-10         2020-07-01        9 days   \n",
       "1  fake_id_593 2019-10-11  2020-08-05         2020-08-01        4 days   \n",
       "2  fake_id_594 2019-12-03  2020-08-05         2020-07-12       24 days   \n",
       "3  fake_id_595 2019-01-11  2020-08-04         2020-08-03        1 days   \n",
       "4  fake_id_596 2019-12-12  2020-02-15         2020-02-12        3 days   \n",
       "\n",
       "   active_days  weight  reps  \n",
       "0          130    47.0   8.0  \n",
       "1           95    62.0   7.0  \n",
       "2           47    17.0  11.0  \n",
       "3          177    58.0   8.0  \n",
       "4           12    19.0   6.0  "
      ]
     },
     "execution_count": 16,
     "metadata": {},
     "output_type": "execute_result"
    }
   ],
   "source": [
    "# create a dataframe for user-level aggregated data\n",
    "df = pd.DataFrame()\n",
    "df['first_date'] = ori_df.groupby(['fake_user_id']).min()['Date']\n",
    "df['latest_date'] = ori_df.groupby(['fake_user_id']).max()['Date']\n",
    "# engineer for second latest exercise day\n",
    "ori_df['rank'] = ori_df.groupby(['fake_user_id'])['Date'].rank(method='dense', ascending=False)\n",
    "df['second_latest_date'] = ori_df[ori_df['rank']==2].groupby(['fake_user_id'])['Date'].max()\n",
    "\n",
    "df['days_interval'] = df['latest_date'] - df['second_latest_date']\n",
    "df['active_days'] = ori_df.groupby(['fake_user_id','Date']).count()['singleSetId'].unstack(level=0).count()\n",
    "df['weight'] = round(ori_df.groupby(['fake_user_id']).mean()['weight'],0) # mean\n",
    "df['reps'] = round(ori_df.groupby(['fake_user_id']).mean()['reps'],0) # mean\n",
    "df = df.reset_index()\n",
    "df.head()"
   ]
  },
  {
   "cell_type": "code",
   "execution_count": 17,
   "metadata": {},
   "outputs": [],
   "source": [
    "# construct the exercise_count columns for each user \n",
    "df['exercise_count'] = 0\n",
    "grouped = ori_df.groupby(['fake_user_id','exerciseName']).count()['Date'].reset_index()\n",
    "\n",
    "for index_1, row_1 in df.iterrows():\n",
    "    counter = Counter() # count the times for each user and each exercise\n",
    "    for index, row in grouped.iterrows():\n",
    "        if row_1['fake_user_id'] == row['fake_user_id']:\n",
    "            counter[row['exerciseName']] = row['Date']\n",
    "    df.loc[index_1, 'exercise_count'] = str(counter.most_common(3)) # keep 3 most common exercises for a user"
   ]
  },
  {
   "cell_type": "code",
   "execution_count": 18,
   "metadata": {},
   "outputs": [],
   "source": [
    "# separate into three columns\n",
    "df['exercise_count'] =  df['exercise_count'].apply(lambda x: ast.literal_eval(x) if x is not np.nan else [])\n",
    "df['exercise1'] = df['exercise_count'].apply(lambda x: x[0][0])\n",
    "df['exercise2'] = df['exercise_count'].apply(lambda x: x[1][0] if len(x)>1  else np.nan)\n",
    "df['exercise3'] = df['exercise_count'].apply(lambda x: x[2][0] if len(x)>2 else np.nan)"
   ]
  },
  {
   "cell_type": "code",
   "execution_count": 19,
   "metadata": {},
   "outputs": [
    {
     "data": {
      "text/html": [
       "<div>\n",
       "<style scoped>\n",
       "    .dataframe tbody tr th:only-of-type {\n",
       "        vertical-align: middle;\n",
       "    }\n",
       "\n",
       "    .dataframe tbody tr th {\n",
       "        vertical-align: top;\n",
       "    }\n",
       "\n",
       "    .dataframe thead th {\n",
       "        text-align: right;\n",
       "    }\n",
       "</style>\n",
       "<table border=\"1\" class=\"dataframe\">\n",
       "  <thead>\n",
       "    <tr style=\"text-align: right;\">\n",
       "      <th></th>\n",
       "      <th>fake_user_id</th>\n",
       "      <th>first_date</th>\n",
       "      <th>latest_date</th>\n",
       "      <th>second_latest_date</th>\n",
       "      <th>days_interval</th>\n",
       "      <th>active_days</th>\n",
       "      <th>weight</th>\n",
       "      <th>reps</th>\n",
       "      <th>exercise_count</th>\n",
       "      <th>exercise1</th>\n",
       "      <th>exercise2</th>\n",
       "      <th>exercise3</th>\n",
       "    </tr>\n",
       "  </thead>\n",
       "  <tbody>\n",
       "    <tr>\n",
       "      <th>0</th>\n",
       "      <td>fake_id_592</td>\n",
       "      <td>2018-01-24</td>\n",
       "      <td>2020-07-10</td>\n",
       "      <td>2020-07-01</td>\n",
       "      <td>9 days</td>\n",
       "      <td>130</td>\n",
       "      <td>47.0</td>\n",
       "      <td>8.0</td>\n",
       "      <td>[(Deadlift, 169), (Dumbbell Bench Press, 155),...</td>\n",
       "      <td>Deadlift</td>\n",
       "      <td>Dumbbell Bench Press</td>\n",
       "      <td>Dumbbell Row</td>\n",
       "    </tr>\n",
       "    <tr>\n",
       "      <th>1</th>\n",
       "      <td>fake_id_593</td>\n",
       "      <td>2019-10-11</td>\n",
       "      <td>2020-08-05</td>\n",
       "      <td>2020-08-01</td>\n",
       "      <td>4 days</td>\n",
       "      <td>95</td>\n",
       "      <td>62.0</td>\n",
       "      <td>7.0</td>\n",
       "      <td>[(Barbell Bench Press, 125), (Close-Grip Bench...</td>\n",
       "      <td>Barbell Bench Press</td>\n",
       "      <td>Close-Grip Bench Press</td>\n",
       "      <td>Back Squat</td>\n",
       "    </tr>\n",
       "    <tr>\n",
       "      <th>2</th>\n",
       "      <td>fake_id_594</td>\n",
       "      <td>2019-12-03</td>\n",
       "      <td>2020-08-05</td>\n",
       "      <td>2020-07-12</td>\n",
       "      <td>24 days</td>\n",
       "      <td>47</td>\n",
       "      <td>17.0</td>\n",
       "      <td>11.0</td>\n",
       "      <td>[(Dumbbell Row, 40), (Dumbbell Bench Press, 38...</td>\n",
       "      <td>Dumbbell Row</td>\n",
       "      <td>Dumbbell Bench Press</td>\n",
       "      <td>Dumbbell Bent Over Row</td>\n",
       "    </tr>\n",
       "    <tr>\n",
       "      <th>3</th>\n",
       "      <td>fake_id_595</td>\n",
       "      <td>2019-01-11</td>\n",
       "      <td>2020-08-04</td>\n",
       "      <td>2020-08-03</td>\n",
       "      <td>1 days</td>\n",
       "      <td>177</td>\n",
       "      <td>58.0</td>\n",
       "      <td>8.0</td>\n",
       "      <td>[(Back Squat, 171), (Dumbbell Row, 153), (Clos...</td>\n",
       "      <td>Back Squat</td>\n",
       "      <td>Dumbbell Row</td>\n",
       "      <td>Close-Grip Bench Press</td>\n",
       "    </tr>\n",
       "    <tr>\n",
       "      <th>4</th>\n",
       "      <td>fake_id_596</td>\n",
       "      <td>2019-12-12</td>\n",
       "      <td>2020-02-15</td>\n",
       "      <td>2020-02-12</td>\n",
       "      <td>3 days</td>\n",
       "      <td>12</td>\n",
       "      <td>19.0</td>\n",
       "      <td>6.0</td>\n",
       "      <td>[(Close-Grip Bench Press, 18), (Barbell Bench ...</td>\n",
       "      <td>Close-Grip Bench Press</td>\n",
       "      <td>Barbell Bench Press</td>\n",
       "      <td>Dumbbell Shoulder Press</td>\n",
       "    </tr>\n",
       "  </tbody>\n",
       "</table>\n",
       "</div>"
      ],
      "text/plain": [
       "  fake_user_id first_date latest_date second_latest_date days_interval  \\\n",
       "0  fake_id_592 2018-01-24  2020-07-10         2020-07-01        9 days   \n",
       "1  fake_id_593 2019-10-11  2020-08-05         2020-08-01        4 days   \n",
       "2  fake_id_594 2019-12-03  2020-08-05         2020-07-12       24 days   \n",
       "3  fake_id_595 2019-01-11  2020-08-04         2020-08-03        1 days   \n",
       "4  fake_id_596 2019-12-12  2020-02-15         2020-02-12        3 days   \n",
       "\n",
       "   active_days  weight  reps  \\\n",
       "0          130    47.0   8.0   \n",
       "1           95    62.0   7.0   \n",
       "2           47    17.0  11.0   \n",
       "3          177    58.0   8.0   \n",
       "4           12    19.0   6.0   \n",
       "\n",
       "                                      exercise_count               exercise1  \\\n",
       "0  [(Deadlift, 169), (Dumbbell Bench Press, 155),...                Deadlift   \n",
       "1  [(Barbell Bench Press, 125), (Close-Grip Bench...     Barbell Bench Press   \n",
       "2  [(Dumbbell Row, 40), (Dumbbell Bench Press, 38...            Dumbbell Row   \n",
       "3  [(Back Squat, 171), (Dumbbell Row, 153), (Clos...              Back Squat   \n",
       "4  [(Close-Grip Bench Press, 18), (Barbell Bench ...  Close-Grip Bench Press   \n",
       "\n",
       "                exercise2                exercise3  \n",
       "0    Dumbbell Bench Press             Dumbbell Row  \n",
       "1  Close-Grip Bench Press               Back Squat  \n",
       "2    Dumbbell Bench Press   Dumbbell Bent Over Row  \n",
       "3            Dumbbell Row   Close-Grip Bench Press  \n",
       "4     Barbell Bench Press  Dumbbell Shoulder Press  "
      ]
     },
     "execution_count": 19,
     "metadata": {},
     "output_type": "execute_result"
    }
   ],
   "source": [
    "df.head()"
   ]
  },
  {
   "cell_type": "markdown",
   "metadata": {},
   "source": [
    "#### User Daily Workout Times vs. User Total Workout Times"
   ]
  },
  {
   "cell_type": "code",
   "execution_count": 20,
   "metadata": {},
   "outputs": [
    {
     "name": "stdout",
     "output_type": "stream",
     "text": [
      "Max daily workout times for all users:  9.333333333333334\n",
      "Min daily workout times for all users:  2.875\n",
      "Average daily workout times for all users:  4.69\n"
     ]
    }
   ],
   "source": [
    "# user daily workout times\n",
    "# max workout times among all the user\n",
    "print(\"Max daily workout times for all users: \",ori_df.groupby(['fake_user_id','Date']).count()['singleSetId'].unstack(level=0).mean().max())\n",
    "# min workout times among all the user\n",
    "print(\"Min daily workout times for all users: \",ori_df.groupby(['fake_user_id','Date']).count()['singleSetId'].unstack(level=0).mean().min())\n",
    "# average workout times among all the user\n",
    "print(\"Average daily workout times for all users: \",round(ori_df.groupby(['fake_user_id','Date']).count()['singleSetId'].unstack(level=0).mean().mean(),2))\n",
    "# ori_df.groupby(['fake_user_id','Date'])['singleSetId'].size().mean()"
   ]
  },
  {
   "cell_type": "code",
   "execution_count": 21,
   "metadata": {},
   "outputs": [
    {
     "name": "stdout",
     "output_type": "stream",
     "text": [
      "Max workout times for all users:  1680\n",
      "Min workout times for all users:  5\n",
      "Average workout times for all users:  290.0\n"
     ]
    }
   ],
   "source": [
    "# max workout times among all the user\n",
    "print(\"Max workout times for all users: \",ori_df.groupby(['fake_user_id']).count()['singleSetId'].max())\n",
    "# min workout times among all the user\n",
    "print(\"Min workout times for all users: \",ori_df.groupby(['fake_user_id']).count()['singleSetId'].min())\n",
    "# average workout times among all the user\n",
    "print(\"Average workout times for all users: \",round(ori_df.groupby(['fake_user_id']).count()['singleSetId'].mean(),0))"
   ]
  },
  {
   "cell_type": "code",
   "execution_count": 22,
   "metadata": {},
   "outputs": [
    {
     "data": {
      "image/png": "[encoded data removed]",
      "text/plain": [
       "<Figure size 1080x288 with 2 Axes>"
      ]
     },
     "metadata": {
      "needs_background": "light"
     },
     "output_type": "display_data"
    }
   ],
   "source": [
    "fig, ax = plt.subplots(1,2, figsize=(15, 4))\n",
    "hist_kws={'ax':ax[0], 'grid':False, 'bins':7, 'histtype': 'bar', 'edgecolor':'black', 'alpha': 0.2}\n",
    "ori_df.groupby(['fake_user_id','Date']).count()['singleSetId'].unstack(level=0).mean().hist(**hist_kws)\n",
    "ax[0].set_title(\"Daily Workout Distribution\",fontsize=16)\n",
    "ax[0].set_xlabel(\"Times of Daily Workout\", fontsize = 12)\n",
    "ax[0].set_ylabel(\"Frequency\", fontsize = 12)\n",
    "\n",
    "hist_kws={'ax':ax[1], 'grid':False,'histtype': 'bar', 'edgecolor':'black', 'alpha': 0.2}\n",
    "ori_df.groupby(['fake_user_id']).count()['singleSetId'].hist(**hist_kws)\n",
    "ax[1].set_title(\"Total Workout Distribution\",fontsize=16)\n",
    "ax[1].set_xlabel(\"Times of Workout\", fontsize = 12)\n",
    "ax[1].set_ylabel(\"Frequency\", fontsize = 12)\n",
    "\n",
    "plt.show()\n"
   ]
  },
  {
   "cell_type": "markdown",
   "metadata": {},
   "source": [
    "#### Adding Quit Information"
   ]
  },
  {
   "cell_type": "code",
   "execution_count": 23,
   "metadata": {},
   "outputs": [
    {
     "data": {
      "text/plain": [
       "count                        108\n",
       "mean            17 days 05:20:00\n",
       "std      34 days 23:36:05.427412\n",
       "min              1 days 00:00:00\n",
       "25%              2 days 00:00:00\n",
       "50%              5 days 00:00:00\n",
       "75%             14 days 00:00:00\n",
       "max            205 days 00:00:00\n",
       "Name: days_interval, dtype: object"
      ]
     },
     "execution_count": 23,
     "metadata": {},
     "output_type": "execute_result"
    }
   ],
   "source": [
    "# the days interval of the last two exercise usually is less than 15 days\n",
    "df['days_interval'].describe()"
   ]
  },
  {
   "cell_type": "markdown",
   "metadata": {},
   "source": [
    "According to the results above, combined with domain knowledge, I set the attrition rate criteria to be one month inactive."
   ]
  },
  {
   "cell_type": "code",
   "execution_count": 24,
   "metadata": {},
   "outputs": [],
   "source": [
    "# choose about one month as the criteria for quitting exercise on Fitbod\n",
    "df.loc[df['latest_date'] < pd.to_datetime('2020-07-01'),'quit_date'] = df['latest_date']"
   ]
  },
  {
   "cell_type": "code",
   "execution_count": 25,
   "metadata": {},
   "outputs": [],
   "source": [
    "# Separate stay and quit data\n",
    "quit_data = df[~df['quit_date'].isnull()]\n",
    "stay_data = df[df['quit_date'].isnull()]"
   ]
  },
  {
   "cell_type": "code",
   "execution_count": 26,
   "metadata": {},
   "outputs": [
    {
     "data": {
      "image/png": "[encoded data removed]",
      "text/plain": [
       "<Figure size 936x432 with 2 Axes>"
      ]
     },
     "metadata": {
      "needs_background": "light"
     },
     "output_type": "display_data"
    }
   ],
   "source": [
    "# the range of days user stay on the app from loggin to quit\n",
    "range_days = np.array(list(map(lambda x: x.days, df['latest_date'] - df['first_date'])))\n",
    "range_days_quit = np.array(list(map(lambda x: x.days, quit_data['latest_date'] - quit_data['first_date'])))\n",
    "\n",
    "\n",
    "hist_kws={'histtype': 'bar', 'edgecolor':'black', 'alpha': 0.2}\n",
    "fig, ax = plt.subplots(2, 1, figsize=(13, 6))\n",
    "\n",
    "sns.distplot(range_days, bins=100, kde=False, ax=ax[0], hist_kws=hist_kws)\n",
    "ax[0].set_xticks([0, 200, 400, 600, 800, 1000, 1200, 1300])\n",
    "ax[0].set_title('Histogram of Range of Days(all)', fontsize=16)\n",
    "ax[0].set_xlabel('Range of Working Out Days', fontsize=12)\n",
    "ax[0].set_ylabel('Frequency', fontsize=12)\n",
    "\n",
    "sns.distplot(range_days_quit, bins=50, kde=False, ax=ax[1], hist_kws=hist_kws)\n",
    "ax[1].set_xticks([0, 200, 400, 600, 800, 1000, 1200, 1300])\n",
    "ax[1].set_title('Histogram of Range of Days(quit)', fontsize=16)\n",
    "ax[1].set_xlabel('Range of Working Out Days', fontsize=12)\n",
    "ax[1].set_ylabel('Frequency', fontsize=12)\n",
    "plt.tight_layout()\n",
    "\n",
    "plt.show()"
   ]
  },
  {
   "cell_type": "code",
   "execution_count": 47,
   "metadata": {},
   "outputs": [
    {
     "data": {
      "image/png": "[encoded data removed]",
      "text/plain": [
       "<Figure size 936x648 with 3 Axes>"
      ]
     },
     "metadata": {
      "needs_background": "light"
     },
     "output_type": "display_data"
    }
   ],
   "source": [
    "# user active working out days\n",
    "\n",
    "hist_kws={'histtype': 'bar', 'edgecolor':'black', 'alpha': 0.2}\n",
    "fig, ax = plt.subplots(3, 1, figsize=(13, 9))\n",
    "\n",
    "sns.distplot(df['active_days'], bins=100, kde=False, ax=ax[0], hist_kws=hist_kws)\n",
    "ax[0].set_title('Histogram of Active Days(all)', fontsize=14)\n",
    "ax[0].set_xlabel('Active Days', fontsize=12)\n",
    "ax[0].set_ylabel('Frequency', fontsize=12)\n",
    "\n",
    "sns.distplot(quit_data['active_days'], bins=100, kde=False, ax=ax[1], hist_kws=hist_kws)\n",
    "ax[1].set_xticks([0, 50, 100, 150, 200, 250])\n",
    "ax[1].set_title('Histogram of Active Days(quit)', fontsize=14)\n",
    "ax[1].set_xlabel('Active Days', fontsize=12)\n",
    "ax[1].set_ylabel('Frequency', fontsize=12)\n",
    "plt.tight_layout()\n",
    "\n",
    "sns.distplot(stay_data['active_days'], bins=100, kde=False, ax=ax[2], hist_kws=hist_kws)\n",
    "ax[2].set_title('Histogram of Active Days(stay)', fontsize=14)\n",
    "ax[2].set_xlabel('Active Days', fontsize=12)\n",
    "ax[2].set_ylabel('Frequency', fontsize=12)\n",
    "plt.tight_layout()\n",
    "plt.show()"
   ]
  },
  {
   "cell_type": "markdown",
   "metadata": {},
   "source": [
    "**Analysis:**\n",
    "* The first plot collection shows that, most users who has used the APP longer than 2 years will not quit.\n",
    "* The second plot collection shows that, most users who quit have a lower active days compared to stayed users.\n",
    "* We can draw a conclusion that we should try to increase their \"stickness\" as much as possible."
   ]
  },
  {
   "cell_type": "code",
   "execution_count": 29,
   "metadata": {},
   "outputs": [
    {
     "data": {
      "image/png": "[encoded data removed]",
      "text/plain": [
       "<Figure size 720x288 with 1 Axes>"
      ]
     },
     "metadata": {
      "needs_background": "light"
     },
     "output_type": "display_data"
    }
   ],
   "source": [
    "# Month for quiting\n",
    "quit_month = np.array(list(map(lambda x: x.month, quit_data['quit_date'])))\n",
    "\n",
    "fig, ax = plt.subplots(figsize=(10, 4))\n",
    "sns.countplot(quit_month, ax=ax)\n",
    "ax.set_title('Countplot of Quit Month', fontsize=16)\n",
    "ax.set_xlabel('Month', fontsize=12)\n",
    "ax.set_ylabel('Frequency', fontsize=12)\n",
    "plt.show()"
   ]
  },
  {
   "cell_type": "code",
   "execution_count": 30,
   "metadata": {},
   "outputs": [
    {
     "data": {
      "image/png": "[encoded data removed]",
      "text/plain": [
       "<Figure size 720x288 with 1 Axes>"
      ]
     },
     "metadata": {
      "needs_background": "light"
     },
     "output_type": "display_data"
    }
   ],
   "source": [
    "quit_data['latest_date'].hist(figsize=(10, 4), edgecolor='black', alpha= 0.3, bins=31, grid=False)\n",
    "plt.show()"
   ]
  },
  {
   "cell_type": "markdown",
   "metadata": {},
   "source": [
    "**Analysis:**\n",
    "* To go deeper, We can see that, a lot of users quit this March, this may ascribe to the closure of gyms since the outbreak of Covid-19."
   ]
  },
  {
   "cell_type": "markdown",
   "metadata": {},
   "source": [
    "### Weekly Active Users and Monthly Active Users"
   ]
  },
  {
   "cell_type": "markdown",
   "metadata": {},
   "source": [
    "We may want to know the active user for each week and month, these can be important metrics for a mobile app."
   ]
  },
  {
   "cell_type": "code",
   "execution_count": 31,
   "metadata": {},
   "outputs": [
    {
     "data": {
      "text/html": [
       "<div>\n",
       "<style scoped>\n",
       "    .dataframe tbody tr th:only-of-type {\n",
       "        vertical-align: middle;\n",
       "    }\n",
       "\n",
       "    .dataframe tbody tr th {\n",
       "        vertical-align: top;\n",
       "    }\n",
       "\n",
       "    .dataframe thead th {\n",
       "        text-align: right;\n",
       "    }\n",
       "</style>\n",
       "<table border=\"1\" class=\"dataframe\">\n",
       "  <thead>\n",
       "    <tr style=\"text-align: right;\">\n",
       "      <th></th>\n",
       "      <th>week_date</th>\n",
       "      <th>WAU</th>\n",
       "    </tr>\n",
       "  </thead>\n",
       "  <tbody>\n",
       "    <tr>\n",
       "      <th>0</th>\n",
       "      <td>2017-01-02</td>\n",
       "      <td>1</td>\n",
       "    </tr>\n",
       "    <tr>\n",
       "      <th>1</th>\n",
       "      <td>2017-02-13</td>\n",
       "      <td>1</td>\n",
       "    </tr>\n",
       "    <tr>\n",
       "      <th>2</th>\n",
       "      <td>2017-02-20</td>\n",
       "      <td>2</td>\n",
       "    </tr>\n",
       "    <tr>\n",
       "      <th>3</th>\n",
       "      <td>2017-02-27</td>\n",
       "      <td>3</td>\n",
       "    </tr>\n",
       "    <tr>\n",
       "      <th>4</th>\n",
       "      <td>2017-03-06</td>\n",
       "      <td>2</td>\n",
       "    </tr>\n",
       "    <tr>\n",
       "      <th>...</th>\n",
       "      <td>...</td>\n",
       "      <td>...</td>\n",
       "    </tr>\n",
       "    <tr>\n",
       "      <th>166</th>\n",
       "      <td>2020-07-06</td>\n",
       "      <td>19</td>\n",
       "    </tr>\n",
       "    <tr>\n",
       "      <th>167</th>\n",
       "      <td>2020-07-13</td>\n",
       "      <td>20</td>\n",
       "    </tr>\n",
       "    <tr>\n",
       "      <th>168</th>\n",
       "      <td>2020-07-20</td>\n",
       "      <td>21</td>\n",
       "    </tr>\n",
       "    <tr>\n",
       "      <th>169</th>\n",
       "      <td>2020-07-27</td>\n",
       "      <td>24</td>\n",
       "    </tr>\n",
       "    <tr>\n",
       "      <th>170</th>\n",
       "      <td>2020-08-03</td>\n",
       "      <td>18</td>\n",
       "    </tr>\n",
       "  </tbody>\n",
       "</table>\n",
       "<p>171 rows × 2 columns</p>\n",
       "</div>"
      ],
      "text/plain": [
       "     week_date  WAU\n",
       "0   2017-01-02    1\n",
       "1   2017-02-13    1\n",
       "2   2017-02-20    2\n",
       "3   2017-02-27    3\n",
       "4   2017-03-06    2\n",
       "..         ...  ...\n",
       "166 2020-07-06   19\n",
       "167 2020-07-13   20\n",
       "168 2020-07-20   21\n",
       "169 2020-07-27   24\n",
       "170 2020-08-03   18\n",
       "\n",
       "[171 rows x 2 columns]"
      ]
     },
     "execution_count": 31,
     "metadata": {},
     "output_type": "execute_result"
    }
   ],
   "source": [
    "# Weekly Active Users\n",
    "week_df = ori_df.copy()\n",
    "week_df['week_date'] = pd.to_datetime(week_df['Date']) - pd.to_timedelta(7, unit='d')\n",
    "week_df = week_df.groupby([pd.Grouper(key='week_date', freq='W-MON'), 'fake_user_id'])['fake_user_id'].count().unstack(level=0).count()\n",
    "week_df = week_df.to_frame('WAU').reset_index()\n",
    "week_df"
   ]
  },
  {
   "cell_type": "code",
   "execution_count": 48,
   "metadata": {},
   "outputs": [
    {
     "data": {
      "image/png": "[encoded data removed]",
      "text/plain": [
       "<Figure size 432x288 with 1 Axes>"
      ]
     },
     "metadata": {
      "needs_background": "light"
     },
     "output_type": "display_data"
    }
   ],
   "source": [
    "plt.plot(week_df['week_date'],week_df['WAU'])\n",
    "plt.title('Weekly Active Users')\n",
    "plt.grid()\n",
    "plt.show()"
   ]
  },
  {
   "cell_type": "code",
   "execution_count": 33,
   "metadata": {},
   "outputs": [
    {
     "data": {
      "text/html": [
       "<div>\n",
       "<style scoped>\n",
       "    .dataframe tbody tr th:only-of-type {\n",
       "        vertical-align: middle;\n",
       "    }\n",
       "\n",
       "    .dataframe tbody tr th {\n",
       "        vertical-align: top;\n",
       "    }\n",
       "\n",
       "    .dataframe thead th {\n",
       "        text-align: right;\n",
       "    }\n",
       "</style>\n",
       "<table border=\"1\" class=\"dataframe\">\n",
       "  <thead>\n",
       "    <tr style=\"text-align: right;\">\n",
       "      <th></th>\n",
       "      <th>Date</th>\n",
       "      <th>MAU</th>\n",
       "    </tr>\n",
       "  </thead>\n",
       "  <tbody>\n",
       "    <tr>\n",
       "      <th>39</th>\n",
       "      <td>2020-04-30</td>\n",
       "      <td>25</td>\n",
       "    </tr>\n",
       "    <tr>\n",
       "      <th>40</th>\n",
       "      <td>2020-05-31</td>\n",
       "      <td>28</td>\n",
       "    </tr>\n",
       "    <tr>\n",
       "      <th>41</th>\n",
       "      <td>2020-06-30</td>\n",
       "      <td>34</td>\n",
       "    </tr>\n",
       "    <tr>\n",
       "      <th>42</th>\n",
       "      <td>2020-07-31</td>\n",
       "      <td>32</td>\n",
       "    </tr>\n",
       "    <tr>\n",
       "      <th>43</th>\n",
       "      <td>2020-08-31</td>\n",
       "      <td>22</td>\n",
       "    </tr>\n",
       "  </tbody>\n",
       "</table>\n",
       "</div>"
      ],
      "text/plain": [
       "         Date  MAU\n",
       "39 2020-04-30   25\n",
       "40 2020-05-31   28\n",
       "41 2020-06-30   34\n",
       "42 2020-07-31   32\n",
       "43 2020-08-31   22"
      ]
     },
     "execution_count": 33,
     "metadata": {},
     "output_type": "execute_result"
    }
   ],
   "source": [
    "# Monthly Active Users\n",
    "mon_df = ori_df.copy()\n",
    "mon_df = mon_df.groupby([pd.Grouper(key='Date', freq='1M'),'fake_user_id'])['fake_user_id'].count().unstack(level=0).count() # groupby each 1 month\n",
    "mon_df = mon_df.to_frame('MAU').reset_index()\n",
    "mon_df.tail()"
   ]
  },
  {
   "cell_type": "code",
   "execution_count": 49,
   "metadata": {},
   "outputs": [
    {
     "data": {
      "image/png": "[encoded data removed]",
      "text/plain": [
       "<Figure size 432x288 with 1 Axes>"
      ]
     },
     "metadata": {
      "needs_background": "light"
     },
     "output_type": "display_data"
    }
   ],
   "source": [
    "plt.plot(mon_df['Date'],mon_df['MAU'])\n",
    "plt.title('Monthly Active Users')\n",
    "plt.grid()\n",
    "plt.show()"
   ]
  },
  {
   "cell_type": "markdown",
   "metadata": {},
   "source": [
    "## ML Modeling"
   ]
  },
  {
   "cell_type": "markdown",
   "metadata": {},
   "source": [
    "In this section, I will apply a ``Decision Tree`` Model to predict whether a user will quit using our APP or not, and show the possible causes of a user lost.\n",
    "\n",
    "Decision Tree is used since it can work for small data and it is easy to explain.\n",
    "\n",
    "At this moment, the model may not be accurate because of the limited dimensions and quantity of the data. We can improve and generalize the model as the data becomes more complete."
   ]
  },
  {
   "cell_type": "markdown",
   "metadata": {},
   "source": [
    "### Decision Tree Model"
   ]
  },
  {
   "cell_type": "code",
   "execution_count": 35,
   "metadata": {},
   "outputs": [
    {
     "data": {
      "text/html": [
       "<div>\n",
       "<style scoped>\n",
       "    .dataframe tbody tr th:only-of-type {\n",
       "        vertical-align: middle;\n",
       "    }\n",
       "\n",
       "    .dataframe tbody tr th {\n",
       "        vertical-align: top;\n",
       "    }\n",
       "\n",
       "    .dataframe thead th {\n",
       "        text-align: right;\n",
       "    }\n",
       "</style>\n",
       "<table border=\"1\" class=\"dataframe\">\n",
       "  <thead>\n",
       "    <tr style=\"text-align: right;\">\n",
       "      <th></th>\n",
       "      <th>fake_user_id</th>\n",
       "      <th>first_date</th>\n",
       "      <th>latest_date</th>\n",
       "      <th>second_latest_date</th>\n",
       "      <th>days_interval</th>\n",
       "      <th>active_days</th>\n",
       "      <th>weight</th>\n",
       "      <th>reps</th>\n",
       "      <th>exercise_count</th>\n",
       "      <th>exercise1</th>\n",
       "      <th>exercise2</th>\n",
       "      <th>exercise3</th>\n",
       "      <th>quit_date</th>\n",
       "      <th>quit</th>\n",
       "    </tr>\n",
       "  </thead>\n",
       "  <tbody>\n",
       "    <tr>\n",
       "      <th>0</th>\n",
       "      <td>fake_id_592</td>\n",
       "      <td>2018-01-24</td>\n",
       "      <td>2020-07-10</td>\n",
       "      <td>2020-07-01</td>\n",
       "      <td>9 days</td>\n",
       "      <td>130</td>\n",
       "      <td>47.0</td>\n",
       "      <td>8.0</td>\n",
       "      <td>[(Deadlift, 169), (Dumbbell Bench Press, 155),...</td>\n",
       "      <td>Deadlift</td>\n",
       "      <td>Dumbbell Bench Press</td>\n",
       "      <td>Dumbbell Row</td>\n",
       "      <td>NaT</td>\n",
       "      <td>0</td>\n",
       "    </tr>\n",
       "    <tr>\n",
       "      <th>1</th>\n",
       "      <td>fake_id_593</td>\n",
       "      <td>2019-10-11</td>\n",
       "      <td>2020-08-05</td>\n",
       "      <td>2020-08-01</td>\n",
       "      <td>4 days</td>\n",
       "      <td>95</td>\n",
       "      <td>62.0</td>\n",
       "      <td>7.0</td>\n",
       "      <td>[(Barbell Bench Press, 125), (Close-Grip Bench...</td>\n",
       "      <td>Barbell Bench Press</td>\n",
       "      <td>Close-Grip Bench Press</td>\n",
       "      <td>Back Squat</td>\n",
       "      <td>NaT</td>\n",
       "      <td>0</td>\n",
       "    </tr>\n",
       "    <tr>\n",
       "      <th>2</th>\n",
       "      <td>fake_id_594</td>\n",
       "      <td>2019-12-03</td>\n",
       "      <td>2020-08-05</td>\n",
       "      <td>2020-07-12</td>\n",
       "      <td>24 days</td>\n",
       "      <td>47</td>\n",
       "      <td>17.0</td>\n",
       "      <td>11.0</td>\n",
       "      <td>[(Dumbbell Row, 40), (Dumbbell Bench Press, 38...</td>\n",
       "      <td>Dumbbell Row</td>\n",
       "      <td>Dumbbell Bench Press</td>\n",
       "      <td>Dumbbell Bent Over Row</td>\n",
       "      <td>NaT</td>\n",
       "      <td>0</td>\n",
       "    </tr>\n",
       "    <tr>\n",
       "      <th>3</th>\n",
       "      <td>fake_id_595</td>\n",
       "      <td>2019-01-11</td>\n",
       "      <td>2020-08-04</td>\n",
       "      <td>2020-08-03</td>\n",
       "      <td>1 days</td>\n",
       "      <td>177</td>\n",
       "      <td>58.0</td>\n",
       "      <td>8.0</td>\n",
       "      <td>[(Back Squat, 171), (Dumbbell Row, 153), (Clos...</td>\n",
       "      <td>Back Squat</td>\n",
       "      <td>Dumbbell Row</td>\n",
       "      <td>Close-Grip Bench Press</td>\n",
       "      <td>NaT</td>\n",
       "      <td>0</td>\n",
       "    </tr>\n",
       "    <tr>\n",
       "      <th>4</th>\n",
       "      <td>fake_id_596</td>\n",
       "      <td>2019-12-12</td>\n",
       "      <td>2020-02-15</td>\n",
       "      <td>2020-02-12</td>\n",
       "      <td>3 days</td>\n",
       "      <td>12</td>\n",
       "      <td>19.0</td>\n",
       "      <td>6.0</td>\n",
       "      <td>[(Close-Grip Bench Press, 18), (Barbell Bench ...</td>\n",
       "      <td>Close-Grip Bench Press</td>\n",
       "      <td>Barbell Bench Press</td>\n",
       "      <td>Dumbbell Shoulder Press</td>\n",
       "      <td>2020-02-15</td>\n",
       "      <td>1</td>\n",
       "    </tr>\n",
       "  </tbody>\n",
       "</table>\n",
       "</div>"
      ],
      "text/plain": [
       "  fake_user_id first_date latest_date second_latest_date days_interval  \\\n",
       "0  fake_id_592 2018-01-24  2020-07-10         2020-07-01        9 days   \n",
       "1  fake_id_593 2019-10-11  2020-08-05         2020-08-01        4 days   \n",
       "2  fake_id_594 2019-12-03  2020-08-05         2020-07-12       24 days   \n",
       "3  fake_id_595 2019-01-11  2020-08-04         2020-08-03        1 days   \n",
       "4  fake_id_596 2019-12-12  2020-02-15         2020-02-12        3 days   \n",
       "\n",
       "   active_days  weight  reps  \\\n",
       "0          130    47.0   8.0   \n",
       "1           95    62.0   7.0   \n",
       "2           47    17.0  11.0   \n",
       "3          177    58.0   8.0   \n",
       "4           12    19.0   6.0   \n",
       "\n",
       "                                      exercise_count               exercise1  \\\n",
       "0  [(Deadlift, 169), (Dumbbell Bench Press, 155),...                Deadlift   \n",
       "1  [(Barbell Bench Press, 125), (Close-Grip Bench...     Barbell Bench Press   \n",
       "2  [(Dumbbell Row, 40), (Dumbbell Bench Press, 38...            Dumbbell Row   \n",
       "3  [(Back Squat, 171), (Dumbbell Row, 153), (Clos...              Back Squat   \n",
       "4  [(Close-Grip Bench Press, 18), (Barbell Bench ...  Close-Grip Bench Press   \n",
       "\n",
       "                exercise2                exercise3  quit_date  quit  \n",
       "0    Dumbbell Bench Press             Dumbbell Row        NaT     0  \n",
       "1  Close-Grip Bench Press               Back Squat        NaT     0  \n",
       "2    Dumbbell Bench Press   Dumbbell Bent Over Row        NaT     0  \n",
       "3            Dumbbell Row   Close-Grip Bench Press        NaT     0  \n",
       "4     Barbell Bench Press  Dumbbell Shoulder Press 2020-02-15     1  "
      ]
     },
     "execution_count": 35,
     "metadata": {},
     "output_type": "execute_result"
    }
   ],
   "source": [
    "# binary label for quit\n",
    "quit = df['quit_date'].isnull()\n",
    "df['quit'] = 1 - quit.astype(int)\n",
    "\n",
    "df.head()"
   ]
  },
  {
   "cell_type": "code",
   "execution_count": 36,
   "metadata": {},
   "outputs": [
    {
     "data": {
      "image/png": "[encoded data removed]",
      "text/plain": [
       "<Figure size 432x360 with 2 Axes>"
      ]
     },
     "metadata": {
      "needs_background": "light"
     },
     "output_type": "display_data"
    }
   ],
   "source": [
    "corr = df.corr()\n",
    "\n",
    "fig, ax = plt.subplots(figsize=(6, 5))\n",
    "# pass the axis to draw on\n",
    "sns.heatmap(corr, ax=ax,annot=True)\n",
    "plt.show()"
   ]
  },
  {
   "cell_type": "code",
   "execution_count": 37,
   "metadata": {},
   "outputs": [],
   "source": [
    "# delete rows for missing data\n",
    "df = df.dropna(subset=['exercise2','exercise3'])"
   ]
  },
  {
   "cell_type": "code",
   "execution_count": 39,
   "metadata": {},
   "outputs": [
    {
     "data": {
      "text/html": [
       "<div>\n",
       "<style scoped>\n",
       "    .dataframe tbody tr th:only-of-type {\n",
       "        vertical-align: middle;\n",
       "    }\n",
       "\n",
       "    .dataframe tbody tr th {\n",
       "        vertical-align: top;\n",
       "    }\n",
       "\n",
       "    .dataframe thead th {\n",
       "        text-align: right;\n",
       "    }\n",
       "</style>\n",
       "<table border=\"1\" class=\"dataframe\">\n",
       "  <thead>\n",
       "    <tr style=\"text-align: right;\">\n",
       "      <th></th>\n",
       "      <th>weight</th>\n",
       "      <th>reps</th>\n",
       "      <th>active_days</th>\n",
       "      <th>exercise1</th>\n",
       "      <th>exercise2</th>\n",
       "      <th>exercise3</th>\n",
       "    </tr>\n",
       "  </thead>\n",
       "  <tbody>\n",
       "    <tr>\n",
       "      <th>0</th>\n",
       "      <td>47.0</td>\n",
       "      <td>8.0</td>\n",
       "      <td>130</td>\n",
       "      <td>3</td>\n",
       "      <td>4</td>\n",
       "      <td>7</td>\n",
       "    </tr>\n",
       "    <tr>\n",
       "      <th>1</th>\n",
       "      <td>62.0</td>\n",
       "      <td>7.0</td>\n",
       "      <td>95</td>\n",
       "      <td>1</td>\n",
       "      <td>2</td>\n",
       "      <td>0</td>\n",
       "    </tr>\n",
       "    <tr>\n",
       "      <th>2</th>\n",
       "      <td>17.0</td>\n",
       "      <td>11.0</td>\n",
       "      <td>47</td>\n",
       "      <td>7</td>\n",
       "      <td>4</td>\n",
       "      <td>5</td>\n",
       "    </tr>\n",
       "    <tr>\n",
       "      <th>3</th>\n",
       "      <td>58.0</td>\n",
       "      <td>8.0</td>\n",
       "      <td>177</td>\n",
       "      <td>0</td>\n",
       "      <td>7</td>\n",
       "      <td>2</td>\n",
       "    </tr>\n",
       "    <tr>\n",
       "      <th>4</th>\n",
       "      <td>19.0</td>\n",
       "      <td>6.0</td>\n",
       "      <td>12</td>\n",
       "      <td>2</td>\n",
       "      <td>1</td>\n",
       "      <td>8</td>\n",
       "    </tr>\n",
       "  </tbody>\n",
       "</table>\n",
       "</div>"
      ],
      "text/plain": [
       "   weight  reps  active_days  exercise1  exercise2  exercise3\n",
       "0    47.0   8.0          130          3          4          7\n",
       "1    62.0   7.0           95          1          2          0\n",
       "2    17.0  11.0           47          7          4          5\n",
       "3    58.0   8.0          177          0          7          2\n",
       "4    19.0   6.0           12          2          1          8"
      ]
     },
     "execution_count": 39,
     "metadata": {},
     "output_type": "execute_result"
    }
   ],
   "source": [
    "# use label encoder for categorical features\n",
    "le = LabelEncoder()\n",
    "train_x = df[['weight', 'reps', 'active_days']]\n",
    "train_x['exercise1'] = le.fit_transform(df['exercise1'])\n",
    "train_x['exercise2'] = le.transform(df['exercise2'])\n",
    "train_x['exercise3'] = le.transform(df['exercise3'])\n",
    "train_y = df['quit'].values\n",
    "\n",
    "train_x.head()"
   ]
  },
  {
   "cell_type": "code",
   "execution_count": 40,
   "metadata": {},
   "outputs": [
    {
     "name": "stdout",
     "output_type": "stream",
     "text": [
      "f1 score: 0.59 (+/- 0.33)\n"
     ]
    }
   ],
   "source": [
    "# use cross-validation to calculate f1-score\n",
    "clf = DecisionTreeClassifier(max_depth=3, min_samples_leaf=20, random_state=42)\n",
    "scores = cross_val_score(clf, train_x, train_y, cv=10,scoring='f1_macro')\n",
    "\n",
    "print(\"f1 score: %0.2f (+/- %0.2f)\" % (scores.mean(), scores.std() * 2))"
   ]
  },
  {
   "cell_type": "markdown",
   "metadata": {},
   "source": [
    "**Note:**\n",
    "* The reason for using cross validation is that the data size is small (111 users); we don't have enough data as training and testing. In the normal process, it is always important to have a training set, a validation set and a test set.\n",
    "* The reason for using F1 score instead of accuracy is that we have imbalanced data (78 quit, 33 stay), so we want a more reasonable evaluation metric."
   ]
  },
  {
   "cell_type": "code",
   "execution_count": 41,
   "metadata": {},
   "outputs": [
    {
     "data": {
      "image/svg+xml": [
       "<?xml version=\"1.0\" encoding=\"UTF-8\" standalone=\"no\"?>\n",
       "<!DOCTYPE svg PUBLIC \"-//W3C//DTD SVG 1.1//EN\"\n",
       " \"http://www.w3.org/Graphics/SVG/1.1/DTD/svg11.dtd\">\n",
       "<!-- Generated by graphviz version 2.44.1 (20200629.0846)\n",
       " -->\n",
       "<!-- Title: Tree Pages: 1 -->\n",
       "<svg width=\"302pt\" height=\"433pt\"\n",
       " viewBox=\"0.00 0.00 302.00 433.00\" xmlns=\"http://www.w3.org/2000/svg\" xmlns:xlink=\"http://www.w3.org/1999/xlink\">\n",
       "<g id=\"graph0\" class=\"graph\" transform=\"scale(1 1) rotate(0) translate(4 429)\">\n",
       "<title>Tree</title>\n",
       "<polygon fill=\"white\" stroke=\"transparent\" points=\"-4,4 -4,-429 298,-429 298,4 -4,4\"/>\n",
       "<!-- 0 -->\n",
       "<g id=\"node1\" class=\"node\">\n",
       "<title>0</title>\n",
       "<path fill=\"#8fc7f0\" stroke=\"black\" d=\"M227.5,-425C227.5,-425 122.5,-425 122.5,-425 116.5,-425 110.5,-419 110.5,-413 110.5,-413 110.5,-354 110.5,-354 110.5,-348 116.5,-342 122.5,-342 122.5,-342 227.5,-342 227.5,-342 233.5,-342 239.5,-348 239.5,-354 239.5,-354 239.5,-413 239.5,-413 239.5,-419 233.5,-425 227.5,-425\"/>\n",
       "<text text-anchor=\"start\" x=\"118.5\" y=\"-409.8\" font-family=\"Helvetica,sans-Serif\" font-size=\"14.00\">active_days ≤ 86.5</text>\n",
       "<text text-anchor=\"start\" x=\"139.5\" y=\"-394.8\" font-family=\"Helvetica,sans-Serif\" font-size=\"14.00\">gini = 0.422</text>\n",
       "<text text-anchor=\"start\" x=\"130\" y=\"-379.8\" font-family=\"Helvetica,sans-Serif\" font-size=\"14.00\">samples = 106</text>\n",
       "<text text-anchor=\"start\" x=\"128\" y=\"-364.8\" font-family=\"Helvetica,sans-Serif\" font-size=\"14.00\">value = [32, 74]</text>\n",
       "<text text-anchor=\"start\" x=\"138.5\" y=\"-349.8\" font-family=\"Helvetica,sans-Serif\" font-size=\"14.00\">class = Quit</text>\n",
       "</g>\n",
       "<!-- 1 -->\n",
       "<g id=\"node2\" class=\"node\">\n",
       "<title>1</title>\n",
       "<path fill=\"#6db7ec\" stroke=\"black\" d=\"M154,-306C154,-306 68,-306 68,-306 62,-306 56,-300 56,-294 56,-294 56,-235 56,-235 56,-229 62,-223 68,-223 68,-223 154,-223 154,-223 160,-223 166,-229 166,-235 166,-235 166,-294 166,-294 166,-300 160,-306 154,-306\"/>\n",
       "<text text-anchor=\"start\" x=\"70.5\" y=\"-290.8\" font-family=\"Helvetica,sans-Serif\" font-size=\"14.00\">weight ≤ 17.5</text>\n",
       "<text text-anchor=\"start\" x=\"75.5\" y=\"-275.8\" font-family=\"Helvetica,sans-Serif\" font-size=\"14.00\">gini = 0.329</text>\n",
       "<text text-anchor=\"start\" x=\"70\" y=\"-260.8\" font-family=\"Helvetica,sans-Serif\" font-size=\"14.00\">samples = 77</text>\n",
       "<text text-anchor=\"start\" x=\"64\" y=\"-245.8\" font-family=\"Helvetica,sans-Serif\" font-size=\"14.00\">value = [16, 61]</text>\n",
       "<text text-anchor=\"start\" x=\"74.5\" y=\"-230.8\" font-family=\"Helvetica,sans-Serif\" font-size=\"14.00\">class = Quit</text>\n",
       "</g>\n",
       "<!-- 0&#45;&gt;1 -->\n",
       "<g id=\"edge1\" class=\"edge\">\n",
       "<title>0&#45;&gt;1</title>\n",
       "<path fill=\"none\" stroke=\"black\" d=\"M152.8,-341.91C148.03,-333.2 142.94,-323.9 138.02,-314.89\"/>\n",
       "<polygon fill=\"black\" stroke=\"black\" points=\"141.03,-313.11 133.17,-306.02 134.89,-316.47 141.03,-313.11\"/>\n",
       "<text text-anchor=\"middle\" x=\"126.14\" y=\"-326.31\" font-family=\"Helvetica,sans-Serif\" font-size=\"14.00\">True</text>\n",
       "</g>\n",
       "<!-- 6 -->\n",
       "<g id=\"node7\" class=\"node\">\n",
       "<title>6</title>\n",
       "<path fill=\"#fae7da\" stroke=\"black\" d=\"M282,-298.5C282,-298.5 196,-298.5 196,-298.5 190,-298.5 184,-292.5 184,-286.5 184,-286.5 184,-242.5 184,-242.5 184,-236.5 190,-230.5 196,-230.5 196,-230.5 282,-230.5 282,-230.5 288,-230.5 294,-236.5 294,-242.5 294,-242.5 294,-286.5 294,-286.5 294,-292.5 288,-298.5 282,-298.5\"/>\n",
       "<text text-anchor=\"start\" x=\"203.5\" y=\"-283.3\" font-family=\"Helvetica,sans-Serif\" font-size=\"14.00\">gini = 0.495</text>\n",
       "<text text-anchor=\"start\" x=\"198\" y=\"-268.3\" font-family=\"Helvetica,sans-Serif\" font-size=\"14.00\">samples = 29</text>\n",
       "<text text-anchor=\"start\" x=\"192\" y=\"-253.3\" font-family=\"Helvetica,sans-Serif\" font-size=\"14.00\">value = [16, 13]</text>\n",
       "<text text-anchor=\"start\" x=\"202\" y=\"-238.3\" font-family=\"Helvetica,sans-Serif\" font-size=\"14.00\">class = Stay</text>\n",
       "</g>\n",
       "<!-- 0&#45;&gt;6 -->\n",
       "<g id=\"edge6\" class=\"edge\">\n",
       "<title>0&#45;&gt;6</title>\n",
       "<path fill=\"none\" stroke=\"black\" d=\"M197.2,-341.91C203.24,-330.87 209.79,-318.9 215.88,-307.77\"/>\n",
       "<polygon fill=\"black\" stroke=\"black\" points=\"219.13,-309.12 220.86,-298.67 212.99,-305.76 219.13,-309.12\"/>\n",
       "<text text-anchor=\"middle\" x=\"227.88\" y=\"-318.96\" font-family=\"Helvetica,sans-Serif\" font-size=\"14.00\">False</text>\n",
       "</g>\n",
       "<!-- 2 -->\n",
       "<g id=\"node3\" class=\"node\">\n",
       "<title>2</title>\n",
       "<path fill=\"#a3d1f3\" stroke=\"black\" d=\"M90,-179.5C90,-179.5 12,-179.5 12,-179.5 6,-179.5 0,-173.5 0,-167.5 0,-167.5 0,-123.5 0,-123.5 0,-117.5 6,-111.5 12,-111.5 12,-111.5 90,-111.5 90,-111.5 96,-111.5 102,-117.5 102,-123.5 102,-123.5 102,-167.5 102,-167.5 102,-173.5 96,-179.5 90,-179.5\"/>\n",
       "<text text-anchor=\"start\" x=\"15.5\" y=\"-164.3\" font-family=\"Helvetica,sans-Serif\" font-size=\"14.00\">gini = 0.454</text>\n",
       "<text text-anchor=\"start\" x=\"10\" y=\"-149.3\" font-family=\"Helvetica,sans-Serif\" font-size=\"14.00\">samples = 23</text>\n",
       "<text text-anchor=\"start\" x=\"8\" y=\"-134.3\" font-family=\"Helvetica,sans-Serif\" font-size=\"14.00\">value = [8, 15]</text>\n",
       "<text text-anchor=\"start\" x=\"14.5\" y=\"-119.3\" font-family=\"Helvetica,sans-Serif\" font-size=\"14.00\">class = Quit</text>\n",
       "</g>\n",
       "<!-- 1&#45;&gt;2 -->\n",
       "<g id=\"edge2\" class=\"edge\">\n",
       "<title>1&#45;&gt;2</title>\n",
       "<path fill=\"none\" stroke=\"black\" d=\"M90.18,-222.91C84.52,-211.87 78.38,-199.9 72.68,-188.77\"/>\n",
       "<polygon fill=\"black\" stroke=\"black\" points=\"75.69,-186.97 68.01,-179.67 69.46,-190.16 75.69,-186.97\"/>\n",
       "</g>\n",
       "<!-- 3 -->\n",
       "<g id=\"node4\" class=\"node\">\n",
       "<title>3</title>\n",
       "<path fill=\"#5baeea\" stroke=\"black\" d=\"M210,-187C210,-187 132,-187 132,-187 126,-187 120,-181 120,-175 120,-175 120,-116 120,-116 120,-110 126,-104 132,-104 132,-104 210,-104 210,-104 216,-104 222,-110 222,-116 222,-116 222,-175 222,-175 222,-181 216,-187 210,-187\"/>\n",
       "<text text-anchor=\"start\" x=\"130.5\" y=\"-171.8\" font-family=\"Helvetica,sans-Serif\" font-size=\"14.00\">weight ≤ 33.5</text>\n",
       "<text text-anchor=\"start\" x=\"135.5\" y=\"-156.8\" font-family=\"Helvetica,sans-Serif\" font-size=\"14.00\">gini = 0.252</text>\n",
       "<text text-anchor=\"start\" x=\"130\" y=\"-141.8\" font-family=\"Helvetica,sans-Serif\" font-size=\"14.00\">samples = 54</text>\n",
       "<text text-anchor=\"start\" x=\"128\" y=\"-126.8\" font-family=\"Helvetica,sans-Serif\" font-size=\"14.00\">value = [8, 46]</text>\n",
       "<text text-anchor=\"start\" x=\"134.5\" y=\"-111.8\" font-family=\"Helvetica,sans-Serif\" font-size=\"14.00\">class = Quit</text>\n",
       "</g>\n",
       "<!-- 1&#45;&gt;3 -->\n",
       "<g id=\"edge3\" class=\"edge\">\n",
       "<title>1&#45;&gt;3</title>\n",
       "<path fill=\"none\" stroke=\"black\" d=\"M131.82,-222.91C136.24,-214.29 140.95,-205.09 145.53,-196.17\"/>\n",
       "<polygon fill=\"black\" stroke=\"black\" points=\"148.77,-197.52 150.22,-187.02 142.54,-194.32 148.77,-197.52\"/>\n",
       "</g>\n",
       "<!-- 4 -->\n",
       "<g id=\"node5\" class=\"node\">\n",
       "<title>4</title>\n",
       "<path fill=\"#41a1e6\" stroke=\"black\" d=\"M150,-68C150,-68 72,-68 72,-68 66,-68 60,-62 60,-56 60,-56 60,-12 60,-12 60,-6 66,0 72,0 72,0 150,0 150,0 156,0 162,-6 162,-12 162,-12 162,-56 162,-56 162,-62 156,-68 150,-68\"/>\n",
       "<text text-anchor=\"start\" x=\"75.5\" y=\"-52.8\" font-family=\"Helvetica,sans-Serif\" font-size=\"14.00\">gini = 0.077</text>\n",
       "<text text-anchor=\"start\" x=\"70\" y=\"-37.8\" font-family=\"Helvetica,sans-Serif\" font-size=\"14.00\">samples = 25</text>\n",
       "<text text-anchor=\"start\" x=\"68\" y=\"-22.8\" font-family=\"Helvetica,sans-Serif\" font-size=\"14.00\">value = [1, 24]</text>\n",
       "<text text-anchor=\"start\" x=\"74.5\" y=\"-7.8\" font-family=\"Helvetica,sans-Serif\" font-size=\"14.00\">class = Quit</text>\n",
       "</g>\n",
       "<!-- 3&#45;&gt;4 -->\n",
       "<g id=\"edge4\" class=\"edge\">\n",
       "<title>3&#45;&gt;4</title>\n",
       "<path fill=\"none\" stroke=\"black\" d=\"M148.66,-103.73C143.91,-95.06 138.89,-85.9 134.11,-77.18\"/>\n",
       "<polygon fill=\"black\" stroke=\"black\" points=\"137.12,-75.39 129.25,-68.3 130.98,-78.75 137.12,-75.39\"/>\n",
       "</g>\n",
       "<!-- 5 -->\n",
       "<g id=\"node6\" class=\"node\">\n",
       "<title>5</title>\n",
       "<path fill=\"#78bced\" stroke=\"black\" d=\"M270,-68C270,-68 192,-68 192,-68 186,-68 180,-62 180,-56 180,-56 180,-12 180,-12 180,-6 186,0 192,0 192,0 270,0 270,0 276,0 282,-6 282,-12 282,-12 282,-56 282,-56 282,-62 276,-68 270,-68\"/>\n",
       "<text text-anchor=\"start\" x=\"195.5\" y=\"-52.8\" font-family=\"Helvetica,sans-Serif\" font-size=\"14.00\">gini = 0.366</text>\n",
       "<text text-anchor=\"start\" x=\"190\" y=\"-37.8\" font-family=\"Helvetica,sans-Serif\" font-size=\"14.00\">samples = 29</text>\n",
       "<text text-anchor=\"start\" x=\"188\" y=\"-22.8\" font-family=\"Helvetica,sans-Serif\" font-size=\"14.00\">value = [7, 22]</text>\n",
       "<text text-anchor=\"start\" x=\"194.5\" y=\"-7.8\" font-family=\"Helvetica,sans-Serif\" font-size=\"14.00\">class = Quit</text>\n",
       "</g>\n",
       "<!-- 3&#45;&gt;5 -->\n",
       "<g id=\"edge5\" class=\"edge\">\n",
       "<title>3&#45;&gt;5</title>\n",
       "<path fill=\"none\" stroke=\"black\" d=\"M193.34,-103.73C198.09,-95.06 203.11,-85.9 207.89,-77.18\"/>\n",
       "<polygon fill=\"black\" stroke=\"black\" points=\"211.02,-78.75 212.75,-68.3 204.88,-75.39 211.02,-78.75\"/>\n",
       "</g>\n",
       "</g>\n",
       "</svg>\n"
      ],
      "text/plain": [
       "<graphviz.files.Source at 0x1274d8910>"
      ]
     },
     "execution_count": 41,
     "metadata": {},
     "output_type": "execute_result"
    }
   ],
   "source": [
    "# Tree Visualization\n",
    "clf = clf.fit(X=train_x, y=train_y)\n",
    "features = list(train_x.columns)\n",
    "targets = ['Stay', 'Quit']\n",
    "dot_data = tree.export_graphviz(clf, out_file=None, feature_names=features, class_names=targets, filled=True, rounded=True, special_characters=True, )  \n",
    "graph = graphviz.Source(dot_data)\n",
    "graph"
   ]
  },
  {
   "cell_type": "code",
   "execution_count": 42,
   "metadata": {},
   "outputs": [
    {
     "name": "stdout",
     "output_type": "stream",
     "text": [
      "active_days | 0.67724\n",
      "weight     | 0.32276\n",
      "reps       | 0.00000\n",
      "exercise1  | 0.00000\n",
      "exercise2  | 0.00000\n",
      "exercise3  | 0.00000\n"
     ]
    }
   ],
   "source": [
    "# Feature importance\n",
    "importance = sorted(zip(features, clf.feature_importances_), key=lambda x:x[1], reverse=True)\n",
    "for feature, val in importance:\n",
    "    print('{0:10s} | {1:.5f}'.format(feature, val))"
   ]
  },
  {
   "cell_type": "markdown",
   "metadata": {},
   "source": [
    "**Model Results:**\n",
    "* We can see from the tree plot that the only predictive attribute is active days.\n",
    "* This is because we have only limited data and features in this dataset.\n",
    "* The repeat times and exercise have no influence on user lost."
   ]
  },
  {
   "cell_type": "code",
   "execution_count": 43,
   "metadata": {},
   "outputs": [
    {
     "data": {
      "image/png": "[encoded data removed]",
      "text/plain": [
       "<Figure size 720x432 with 1 Axes>"
      ]
     },
     "metadata": {
      "needs_background": "light"
     },
     "output_type": "display_data"
    }
   ],
   "source": [
    "# Visualization\n",
    "hist_kws={'histtype': 'bar', 'edgecolor':'black', 'alpha': 0.2}\n",
    "fig, ax = plt.subplots(figsize=(10, 6))\n",
    "sns.distplot(df[df['quit']==0]['active_days'], \n",
    "             label='Stay', ax=ax, hist_kws=hist_kws)\n",
    "sns.distplot(df[df['quit']==1]['active_days'], \n",
    "             label='Quit', ax=ax, hist_kws=hist_kws)\n",
    "ax.set_xlabel('active_days', fontsize=12)\n",
    "ax.set_ylabel('PDF', fontsize=12)\n",
    "ax.legend()\n",
    "plt.show()"
   ]
  },
  {
   "cell_type": "code",
   "execution_count": 44,
   "metadata": {},
   "outputs": [
    {
     "data": {
      "image/png": "[encoded data removed]",
      "text/plain": [
       "<Figure size 720x432 with 1 Axes>"
      ]
     },
     "metadata": {
      "needs_background": "light"
     },
     "output_type": "display_data"
    }
   ],
   "source": [
    "# Visualization\n",
    "hist_kws={'histtype': 'bar', 'edgecolor':'black', 'alpha': 0.2}\n",
    "fig, ax = plt.subplots(figsize=(10, 6))\n",
    "sns.distplot(df[df['quit']==0]['weight'], \n",
    "             label='Stay', ax=ax, hist_kws=hist_kws)\n",
    "sns.distplot(df[df['quit']==1]['weight'], \n",
    "             label='Quit', ax=ax, hist_kws=hist_kws)\n",
    "ax.set_xlabel('weight', fontsize=12)\n",
    "ax.set_ylabel('PDF', fontsize=12)\n",
    "ax.legend()\n",
    "plt.show()"
   ]
  },
  {
   "cell_type": "code",
   "execution_count": 45,
   "metadata": {},
   "outputs": [
    {
     "data": {
      "image/png": "[encoded data removed]",
      "text/plain": [
       "<Figure size 720x432 with 1 Axes>"
      ]
     },
     "metadata": {
      "needs_background": "light"
     },
     "output_type": "display_data"
    }
   ],
   "source": [
    "# Visualization\n",
    "hist_kws={'histtype': 'bar', 'edgecolor':'black', 'alpha': 0.2}\n",
    "fig, ax = plt.subplots(figsize=(10, 6))\n",
    "sns.distplot(df[df['quit']==0]['reps'], \n",
    "             label='Stay', ax=ax, hist_kws=hist_kws)\n",
    "sns.distplot(df[df['quit']==1]['reps'], \n",
    "             label='Quit', ax=ax, hist_kws=hist_kws)\n",
    "ax.set_xlabel('reps', fontsize=12)\n",
    "ax.set_ylabel('PDF', fontsize=12)\n",
    "ax.legend()\n",
    "plt.show()"
   ]
  },
  {
   "cell_type": "code",
   "execution_count": 46,
   "metadata": {},
   "outputs": [
    {
     "data": {
      "image/png": "[encoded data removed]",
      "text/plain": [
       "<Figure size 1152x504 with 2 Axes>"
      ]
     },
     "metadata": {
      "needs_background": "light"
     },
     "output_type": "display_data"
    }
   ],
   "source": [
    "# Visualization\n",
    "hist_kws={'edgecolor':'black', 'alpha': 0.3}\n",
    "fig, ax = plt.subplots(2,1, figsize=(16, 7))\n",
    "sns.countplot(df[df['quit']==0]['exercise1'], \n",
    "             label='Stay', ax=ax[0], **hist_kws)\n",
    "ax[0].set_xlabel('Exercise', fontsize=12)\n",
    "ax[0].set_ylabel('Frequency', fontsize=12)\n",
    "ax[0].set_title('Count Plot of No.1 Exercise (User = Stay)')\n",
    "\n",
    "sns.countplot(df[df['quit']==1]['exercise1'], \n",
    "             label='Quit', ax=ax[1], **hist_kws)\n",
    "ax[1].set_xlabel('Exercise', fontsize=12)\n",
    "ax[1].set_ylabel('Frequency', fontsize=12)\n",
    "ax[1].set_title('Count Plot of No.1 Exercise (User = Quit)')\n",
    "plt.tight_layout()\n",
    "plt.show()"
   ]
  },
  {
   "cell_type": "markdown",
   "metadata": {},
   "source": [
    "### Summary"
   ]
  },
  {
   "cell_type": "markdown",
   "metadata": {},
   "source": [
    "1. The active days for a user has become the most important factor for quitting or not. Other measurable quitting factors can be short usage time a day, long interval of usage.\n",
    "    1. for the quit user group, half of them have fewer than 25 active days.\n",
    "\n",
    "2. The metric I want to measure relevant to this model is the `customer churn rate`, or `attrition rate`. It is how many users are lost during a time period.\n",
    "\n",
    "3. The model has a __F1__ score of around 0.59, which is acceptable but not satisfactory.\n",
    "4. The other major findings are that:\n",
    "    1. we have a surge in `weekly/monthly active users` in the first half of 2019.\n",
    "    2. a lot of of users quit in March, April and May in 2020; this can be caused by the Covid-19. \n",
    "    3. We should take the chance to keep the users during the quarantine time."
   ]
  },
  {
   "cell_type": "code",
   "execution_count": null,
   "metadata": {},
   "outputs": [],
   "source": []
  }
 ],
 "metadata": {
  "kernelspec": {
   "display_name": "Python [conda env:root] *",
   "language": "python",
   "name": "conda-root-py"
  },
  "language_info": {
   "codemirror_mode": {
    "name": "ipython",
    "version": 3
   },
   "file_extension": ".py",
   "mimetype": "text/x-python",
   "name": "python",
   "nbconvert_exporter": "python",
   "pygments_lexer": "ipython3",
   "version": "3.7.4"
  }
 },
 "nbformat": 4,
 "nbformat_minor": 2
}
